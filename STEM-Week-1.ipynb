{
 "cells": [
  {
   "cell_type": "markdown",
   "metadata": {},
   "source": [
    "#  STEM for Creatives - Week 1- Python and Jupyter Notebook Intro\n",
    "\n",
    "Notebooks a separated up into cells. Each cell can contain text in Markdown form (like this one), or Python code (See below)\n",
    "\n",
    "Each cell can be run in turn using “Shift + Enter” \n",
    "\n",
    "In a ``Python`` cell, you can include code that will be **executed**, and the output displayed underneath"
   ]
  },
  {
   "cell_type": "code",
   "execution_count": null,
   "metadata": {
    "scrolled": true
   },
   "outputs": [
    {
     "data": {
      "text/plain": [
       "'This is Python code'"
      ]
     },
     "execution_count": 2,
     "metadata": {},
     "output_type": "execute_result"
    }
   ],
   "source": [
    "\"This is Python code\""
   ]
  },
  {
   "cell_type": "markdown",
   "metadata": {},
   "source": [
    "### Comments ###\n",
    "\n",
    "You can also include text that **doesn't run** in ``Python`` cells, these are known as **comments** and are denoted with a ``#`` at the beginning of the line. "
   ]
  },
  {
   "cell_type": "code",
   "execution_count": null,
   "metadata": {},
   "outputs": [],
   "source": [
    "#This isn't, its a comment!"
   ]
  },
  {
   "cell_type": "code",
   "execution_count": 1,
   "metadata": {},
   "outputs": [
    {
     "data": {
      "text/plain": [
       "'This is still Python Code'"
      ]
     },
     "execution_count": 1,
     "metadata": {},
     "output_type": "execute_result"
    }
   ],
   "source": [
    "#You can have both \n",
    "\"This is still Python Code\""
   ]
  },
  {
   "cell_type": "markdown",
   "metadata": {},
   "source": [
    "### Cell states and shortcuts\n",
    "\n",
    "There are two main states to be in \"Command mode\" (with the blue highlights) and \"Edit mode\" (with the green highlights). \n",
    "\n",
    "Broadly in Command mode we are editting the whole notebook, and in edit mode we are editting the insides of the cells\n",
    "\n",
    "Popular shortcuts in Command Mode are \n",
    "\n",
    "- A = add cell above\n",
    "- B = add cell below \n",
    "- X = delete cell\n",
    "- M = set cell to mark down \n",
    "- Y = set cell to code\n",
    "\n",
    "### Running Command Line Code in Notebooks\n",
    "\n",
    "First lets check which version of Python the notebook is using. We can evaluate anyting that we would in the Command Line in a notebook by putting a ```!``` first"
   ]
  },
  {
   "cell_type": "code",
   "execution_count": 1,
   "metadata": {},
   "outputs": [
    {
     "name": "stdout",
     "output_type": "stream",
     "text": [
      "/Users/louisbusby/opt/miniconda3/envs/tf_m1/bin/python\n"
     ]
    }
   ],
   "source": [
    "##Mac OSX\n",
    "!which python"
   ]
  },
  {
   "cell_type": "code",
   "execution_count": 2,
   "metadata": {},
   "outputs": [
    {
     "name": "stdout",
     "output_type": "stream",
     "text": [
      "/Users/louisbusby/opt/miniconda3/envs/tf_m1/bin/python\n",
      "/Users/louisbusby/opt/miniconda3/envs/tf_m1/bin/python\n",
      "/usr/bin/python\n"
     ]
    }
   ],
   "source": [
    "##Windows\n",
    "!where python"
   ]
  },
  {
   "cell_type": "markdown",
   "metadata": {},
   "source": [
    "## Printing\n",
    "\n",
    "Above, we saw that the last line of your cells was displayed underneath. For longer bits of code, we might want to display multiple things, and do it at various points in the code, and for this we use ``print()``\n"
   ]
  },
  {
   "cell_type": "code",
   "execution_count": 3,
   "metadata": {},
   "outputs": [
    {
     "name": "stdout",
     "output_type": "stream",
     "text": [
      "123\n",
      "7890\n"
     ]
    }
   ],
   "source": [
    "print(123)\n",
    "print(7890)"
   ]
  },
  {
   "cell_type": "markdown",
   "metadata": {},
   "source": [
    "## Numbers \n",
    "\n",
    "There are **two types of numbers** in Python. \n",
    "\n",
    "1. ``Int`` (short for integer). These are rounded numbers with **no decimal places**\n",
    "\n",
    "\n",
    "2. ``Float`` (not short for anything, thats it). You can use these if you need the precision of decimal places\n",
    "\n",
    "\n",
    "In most cases, Python will just work out whats best to use, but in some cases its necsesary to specify, **more on that later**\n",
    "\n",
    "\n",
    "### Maths\n",
    "\n",
    "You can do basic maths with numbers \n",
    "\n",
    "* Addition `+`\n",
    "\n",
    "* Subtraction `-`\n",
    "\n",
    "* Multiplication `*`\n",
    "\n",
    "* Division `/`"
   ]
  },
  {
   "cell_type": "code",
   "execution_count": 4,
   "metadata": {},
   "outputs": [
    {
     "name": "stdout",
     "output_type": "stream",
     "text": [
      "100\n",
      "100.0\n",
      "100\n",
      "100\n"
     ]
    }
   ],
   "source": [
    "print(34 + 66)\n",
    "print(1000 / 10)\n",
    "print(102 - 2)\n",
    "print(20 * 5)"
   ]
  },
  {
   "cell_type": "markdown",
   "metadata": {},
   "source": [
    "## Tasks - 1\n",
    "\n",
    "1. Write some code that prints out ``45`` then ``46`` underneath \n"
   ]
  },
  {
   "cell_type": "code",
   "execution_count": 5,
   "metadata": {},
   "outputs": [],
   "source": [
    "#Answers here\n"
   ]
  },
  {
   "cell_type": "markdown",
   "metadata": {},
   "source": [
    "2. Write some code that prints out `45 plus 46`"
   ]
  },
  {
   "cell_type": "code",
   "execution_count": 6,
   "metadata": {},
   "outputs": [],
   "source": [
    "#Answers here\n"
   ]
  },
  {
   "cell_type": "markdown",
   "metadata": {},
   "source": [
    "3. Write some code that prints out `60 divided by 12`"
   ]
  },
  {
   "cell_type": "code",
   "execution_count": 7,
   "metadata": {},
   "outputs": [
    {
     "name": "stdout",
     "output_type": "stream",
     "text": [
      "5.0\n"
     ]
    }
   ],
   "source": [
    "#Answers here\n"
   ]
  },
  {
   "cell_type": "markdown",
   "metadata": {},
   "source": [
    "4. Write some code that prints out `3 squared`"
   ]
  },
  {
   "cell_type": "code",
   "execution_count": 9,
   "metadata": {},
   "outputs": [
    {
     "name": "stdout",
     "output_type": "stream",
     "text": [
      "9\n"
     ]
    }
   ],
   "source": [
    "#Answers here\n"
   ]
  },
  {
   "cell_type": "markdown",
   "metadata": {},
   "source": [
    "5. Write some code thats prints out `10 minus 4 times 6 plus 2`. What answer do you get? Is it what you expected?"
   ]
  },
  {
   "cell_type": "code",
   "execution_count": 12,
   "metadata": {},
   "outputs": [
    {
     "name": "stdout",
     "output_type": "stream",
     "text": [
      "38\n"
     ]
    }
   ],
   "source": [
    "#Answers here\n"
   ]
  },
  {
   "cell_type": "markdown",
   "metadata": {},
   "source": [
    "## Strings\n",
    "\n",
    "``Strings`` are used in Python to represent **text**. \n",
    "\n",
    "We tell Python that something is a ``string`` by surrounding it with quotation marks \n",
    "\n",
    "```\n",
    "\"This is a string\"\n",
    "\"singleword\"\n",
    "\"123456789 is using the number characters, but everything inside the quotes is still a string\"\n",
    "```\n",
    "\n",
    "### Concatenation \n",
    "\n",
    "Its a long word for a simple thing (welcome to coding!). \n",
    "\n",
    "This just means **joining strings together**. When we use `+` with numbers, it does a mathematical operation, when we use it with strings, it combines them!\n"
   ]
  },
  {
   "cell_type": "code",
   "execution_count": 7,
   "metadata": {},
   "outputs": [
    {
     "name": "stdout",
     "output_type": "stream",
     "text": [
      "hello world\n"
     ]
    }
   ],
   "source": [
    "print(\"hello \" + \"world\")"
   ]
  },
  {
   "cell_type": "markdown",
   "metadata": {},
   "source": [
    "## Variables \n",
    "\n",
    "A ``Variable`` is a place that we can use to store values (``strings`` or ``ints`` or ``floats``). \n",
    "\n",
    "We can then use them later and just use the **names of the variable**, and the code will interpret that as **the value stored inside it**.\n",
    "\n",
    "Once you have declared the variable, you can change the value in it. The code will interpret it as whatever is in the variable **at that particular time**.\n",
    "\n",
    "These values remain stored **throughout the notebook, across cells**."
   ]
  },
  {
   "cell_type": "markdown",
   "metadata": {},
   "source": [
    "### Maths #1 - Equations and Variables\n",
    "\n",
    "Here is our first maths for the term. Throughout the unit we will be identifying important maths for working with digital media, and for doing machine learning. This will mainly be branches of algebra and geometry, and will probably just serve a refresher of concepts you have seen before. They may often be presented alongside analagous computer science and coding concepts, like here!\n",
    "\n",
    "An `equation` says that two things are equal. It will have an equals sign `=` like this\n",
    "\n",
    " $(ax^2 + bx + c = 3)$\n",
    "\n",
    "A `Variable` is a symbol for a number we don't know yet. It is usually a letter like `x` or `y`.\n",
    "\n",
    "A number on its own is called a `Constant`. "
   ]
  },
  {
   "cell_type": "code",
   "execution_count": 8,
   "metadata": {},
   "outputs": [
    {
     "name": "stdout",
     "output_type": "stream",
     "text": [
      "My favourite song is 1000 miles - Vanessa Carlton\n"
     ]
    }
   ],
   "source": [
    "#Storing a string in a variable valled `my_favourite_song`\n",
    "my_favourite_song = \"1000 miles - Vanessa Carlton\"\n",
    "\n",
    "#Storing a number in a variable valled `number_of_miles`\n",
    "number_of_miles = 1000\n",
    "\n",
    "print(\"My favourite song is \" + my_favourite_song)"
   ]
  },
  {
   "cell_type": "code",
   "execution_count": 9,
   "metadata": {},
   "outputs": [
    {
     "name": "stdout",
     "output_type": "stream",
     "text": [
      "If I listened to it 10 times, there would be this many miles\n",
      "10000\n"
     ]
    }
   ],
   "source": [
    "#Still remembers the variable in a different cell\n",
    "number_of_listens = 10\n",
    "print(\"If I listened to it \" + str(number_of_listens) + \" times, there would be this many miles\")\n",
    "print(number_of_miles * number_of_listens)"
   ]
  },
  {
   "cell_type": "code",
   "execution_count": 10,
   "metadata": {},
   "outputs": [
    {
     "name": "stdout",
     "output_type": "stream",
     "text": [
      "If I listened to it 3000 times, there would be this many miles\n",
      "3000000\n"
     ]
    }
   ],
   "source": [
    "#You can change the value stored in a variable \n",
    "number_of_listens = 3000\n",
    "print(\"If I listened to it \" + str(number_of_listens) + \" times, there would be this many miles\")\n",
    "print(number_of_miles * number_of_listens)"
   ]
  },
  {
   "cell_type": "markdown",
   "metadata": {},
   "source": [
    "## Tasks - 2\n",
    "\n",
    "1. 1. Overwrite the variable ``my_favourite_song`` with your favourite song. Print out the answer\n",
    "\n"
   ]
  },
  {
   "cell_type": "code",
   "execution_count": 11,
   "metadata": {},
   "outputs": [],
   "source": [
    "#Answers here\n"
   ]
  },
  {
   "cell_type": "markdown",
   "metadata": {},
   "source": [
    "\n",
    "2. Write some new code to print out your favourite book. Its important to have sensible names so make sure you change the name of variable as well, not just the print text and value. \n"
   ]
  },
  {
   "cell_type": "code",
   "execution_count": 12,
   "metadata": {},
   "outputs": [],
   "source": [
    "#Answers here\n"
   ]
  },
  {
   "cell_type": "markdown",
   "metadata": {},
   "source": [
    "3. Write some code that makes two variables called ``height`` and ``width`` and stores a number in each. Then make a variable called ``area`` that stores ``height times width``. Then print out the `area`."
   ]
  },
  {
   "cell_type": "code",
   "execution_count": 13,
   "metadata": {},
   "outputs": [],
   "source": [
    "#Answers here\n"
   ]
  },
  {
   "cell_type": "markdown",
   "metadata": {},
   "source": [
    "\n",
    "4. Write some code that takes a variable containing your first name, and a variable containing your second name, and prints them out **on the same line**."
   ]
  },
  {
   "cell_type": "code",
   "execution_count": 14,
   "metadata": {},
   "outputs": [],
   "source": [
    "#Answers here\n"
   ]
  },
  {
   "cell_type": "markdown",
   "metadata": {},
   "source": [
    "## Importing Code\n",
    "\n",
    "There are tonnes of Python ``packages`` available to use that wrap up bits of code other people have written. This save us loads of time! \n",
    "\n",
    "Lots of packages come already installed with ``Miniconda``, but we can also install new ones from the internet. \n",
    "\n",
    "Here we use ``!`` to run code **as if it was in the command line**. We use the `pip` tool to install new Python packages, and here we install a package called ``librosa``, which is great for working with audio."
   ]
  },
  {
   "cell_type": "code",
   "execution_count": 15,
   "metadata": {},
   "outputs": [
    {
     "name": "stdout",
     "output_type": "stream",
     "text": [
      "Requirement already satisfied: librosa in /Users/louisbusby/opt/miniconda3/envs/tf_m1/lib/python3.9/site-packages (0.9.2)\n",
      "Requirement already satisfied: joblib>=0.14 in /Users/louisbusby/opt/miniconda3/envs/tf_m1/lib/python3.9/site-packages (from librosa) (1.2.0)\n",
      "Requirement already satisfied: numba>=0.45.1 in /Users/louisbusby/opt/miniconda3/envs/tf_m1/lib/python3.9/site-packages (from librosa) (0.56.2)\n",
      "Requirement already satisfied: resampy>=0.2.2 in /Users/louisbusby/opt/miniconda3/envs/tf_m1/lib/python3.9/site-packages (from librosa) (0.4.2)\n",
      "Requirement already satisfied: packaging>=20.0 in /Users/louisbusby/opt/miniconda3/envs/tf_m1/lib/python3.9/site-packages (from librosa) (21.3)\n",
      "Requirement already satisfied: soundfile>=0.10.2 in /Users/louisbusby/opt/miniconda3/envs/tf_m1/lib/python3.9/site-packages (from librosa) (0.11.0)\n",
      "Requirement already satisfied: pooch>=1.0 in /Users/louisbusby/opt/miniconda3/envs/tf_m1/lib/python3.9/site-packages (from librosa) (1.6.0)\n",
      "Requirement already satisfied: scikit-learn>=0.19.1 in /Users/louisbusby/opt/miniconda3/envs/tf_m1/lib/python3.9/site-packages (from librosa) (1.1.2)\n",
      "Requirement already satisfied: audioread>=2.1.9 in /Users/louisbusby/opt/miniconda3/envs/tf_m1/lib/python3.9/site-packages (from librosa) (3.0.0)\n",
      "Requirement already satisfied: scipy>=1.2.0 in /Users/louisbusby/opt/miniconda3/envs/tf_m1/lib/python3.9/site-packages (from librosa) (1.9.1)\n",
      "Requirement already satisfied: decorator>=4.0.10 in /Users/louisbusby/opt/miniconda3/envs/tf_m1/lib/python3.9/site-packages (from librosa) (5.1.1)\n",
      "Requirement already satisfied: numpy>=1.17.0 in /Users/louisbusby/opt/miniconda3/envs/tf_m1/lib/python3.9/site-packages (from librosa) (1.22.4)\n",
      "Collecting setuptools<60\n",
      "  Using cached setuptools-59.8.0-py3-none-any.whl (952 kB)\n",
      "Requirement already satisfied: llvmlite<0.40,>=0.39.0dev0 in /Users/louisbusby/opt/miniconda3/envs/tf_m1/lib/python3.9/site-packages (from numba>=0.45.1->librosa) (0.39.1)\n",
      "Requirement already satisfied: pyparsing!=3.0.5,>=2.0.2 in /Users/louisbusby/opt/miniconda3/envs/tf_m1/lib/python3.9/site-packages (from packaging>=20.0->librosa) (3.0.9)\n",
      "Requirement already satisfied: appdirs>=1.3.0 in /Users/louisbusby/opt/miniconda3/envs/tf_m1/lib/python3.9/site-packages (from pooch>=1.0->librosa) (1.4.4)\n",
      "Requirement already satisfied: requests>=2.19.0 in /Users/louisbusby/opt/miniconda3/envs/tf_m1/lib/python3.9/site-packages (from pooch>=1.0->librosa) (2.28.1)\n",
      "Requirement already satisfied: threadpoolctl>=2.0.0 in /Users/louisbusby/opt/miniconda3/envs/tf_m1/lib/python3.9/site-packages (from scikit-learn>=0.19.1->librosa) (3.1.0)\n",
      "Requirement already satisfied: cffi>=1.0 in /Users/louisbusby/opt/miniconda3/envs/tf_m1/lib/python3.9/site-packages (from soundfile>=0.10.2->librosa) (1.15.1)\n",
      "Requirement already satisfied: pycparser in /Users/louisbusby/opt/miniconda3/envs/tf_m1/lib/python3.9/site-packages (from cffi>=1.0->soundfile>=0.10.2->librosa) (2.21)\n",
      "Requirement already satisfied: idna<4,>=2.5 in /Users/louisbusby/opt/miniconda3/envs/tf_m1/lib/python3.9/site-packages (from requests>=2.19.0->pooch>=1.0->librosa) (3.3)\n",
      "Requirement already satisfied: certifi>=2017.4.17 in /Users/louisbusby/opt/miniconda3/envs/tf_m1/lib/python3.9/site-packages (from requests>=2.19.0->pooch>=1.0->librosa) (2022.12.7)\n",
      "Requirement already satisfied: urllib3<1.27,>=1.21.1 in /Users/louisbusby/opt/miniconda3/envs/tf_m1/lib/python3.9/site-packages (from requests>=2.19.0->pooch>=1.0->librosa) (1.26.12)\n",
      "Requirement already satisfied: charset-normalizer<3,>=2 in /Users/louisbusby/opt/miniconda3/envs/tf_m1/lib/python3.9/site-packages (from requests>=2.19.0->pooch>=1.0->librosa) (2.0.4)\n",
      "Installing collected packages: setuptools\n",
      "  Attempting uninstall: setuptools\n",
      "    Found existing installation: setuptools 65.5.0\n",
      "    Uninstalling setuptools-65.5.0:\n",
      "      Successfully uninstalled setuptools-65.5.0\n",
      "Successfully installed setuptools-59.8.0\n"
     ]
    }
   ],
   "source": [
    "#Run as command line code, install package\n",
    "!pip install librosa"
   ]
  },
  {
   "cell_type": "code",
   "execution_count": 16,
   "metadata": {},
   "outputs": [],
   "source": [
    "#import two packages \n",
    "import librosa\n",
    "from IPython.display import Audio "
   ]
  },
  {
   "cell_type": "code",
   "execution_count": 17,
   "metadata": {},
   "outputs": [
    {
     "name": "stderr",
     "output_type": "stream",
     "text": [
      "/Users/louisbusby/opt/miniconda3/envs/tf_m1/lib/python3.9/site-packages/librosa/util/decorators.py:88: UserWarning: PySoundFile failed. Trying audioread instead.\n",
      "  return f(*args, **kwargs)\n"
     ]
    },
    {
     "ename": "FileNotFoundError",
     "evalue": "[Errno 2] No such file or directory: 'audio/soul_piano.wav'",
     "output_type": "error",
     "traceback": [
      "\u001b[0;31m---------------------------------------------------------------------------\u001b[0m",
      "\u001b[0;31mLibsndfileError\u001b[0m                           Traceback (most recent call last)",
      "File \u001b[0;32m~/opt/miniconda3/envs/tf_m1/lib/python3.9/site-packages/librosa/core/audio.py:164\u001b[0m, in \u001b[0;36mload\u001b[0;34m(path, sr, mono, offset, duration, dtype, res_type)\u001b[0m\n\u001b[1;32m    163\u001b[0m \u001b[39mtry\u001b[39;00m:\n\u001b[0;32m--> 164\u001b[0m     y, sr_native \u001b[39m=\u001b[39m __soundfile_load(path, offset, duration, dtype)\n\u001b[1;32m    166\u001b[0m \u001b[39mexcept\u001b[39;00m \u001b[39mRuntimeError\u001b[39;00m \u001b[39mas\u001b[39;00m exc:\n\u001b[1;32m    167\u001b[0m     \u001b[39m# If soundfile failed, try audioread instead\u001b[39;00m\n",
      "File \u001b[0;32m~/opt/miniconda3/envs/tf_m1/lib/python3.9/site-packages/librosa/core/audio.py:195\u001b[0m, in \u001b[0;36m__soundfile_load\u001b[0;34m(path, offset, duration, dtype)\u001b[0m\n\u001b[1;32m    193\u001b[0m \u001b[39melse\u001b[39;00m:\n\u001b[1;32m    194\u001b[0m     \u001b[39m# Otherwise, create the soundfile object\u001b[39;00m\n\u001b[0;32m--> 195\u001b[0m     context \u001b[39m=\u001b[39m sf\u001b[39m.\u001b[39;49mSoundFile(path)\n\u001b[1;32m    197\u001b[0m \u001b[39mwith\u001b[39;00m context \u001b[39mas\u001b[39;00m sf_desc:\n",
      "File \u001b[0;32m~/opt/miniconda3/envs/tf_m1/lib/python3.9/site-packages/soundfile.py:655\u001b[0m, in \u001b[0;36mSoundFile.__init__\u001b[0;34m(self, file, mode, samplerate, channels, subtype, endian, format, closefd)\u001b[0m\n\u001b[1;32m    653\u001b[0m \u001b[39mself\u001b[39m\u001b[39m.\u001b[39m_info \u001b[39m=\u001b[39m _create_info_struct(file, mode, samplerate, channels,\n\u001b[1;32m    654\u001b[0m                                  \u001b[39mformat\u001b[39m, subtype, endian)\n\u001b[0;32m--> 655\u001b[0m \u001b[39mself\u001b[39m\u001b[39m.\u001b[39m_file \u001b[39m=\u001b[39m \u001b[39mself\u001b[39;49m\u001b[39m.\u001b[39;49m_open(file, mode_int, closefd)\n\u001b[1;32m    656\u001b[0m \u001b[39mif\u001b[39;00m \u001b[39mset\u001b[39m(mode)\u001b[39m.\u001b[39missuperset(\u001b[39m'\u001b[39m\u001b[39mr+\u001b[39m\u001b[39m'\u001b[39m) \u001b[39mand\u001b[39;00m \u001b[39mself\u001b[39m\u001b[39m.\u001b[39mseekable():\n\u001b[1;32m    657\u001b[0m     \u001b[39m# Move write position to 0 (like in Python file objects)\u001b[39;00m\n",
      "File \u001b[0;32m~/opt/miniconda3/envs/tf_m1/lib/python3.9/site-packages/soundfile.py:1213\u001b[0m, in \u001b[0;36mSoundFile._open\u001b[0;34m(self, file, mode_int, closefd)\u001b[0m\n\u001b[1;32m   1212\u001b[0m     err \u001b[39m=\u001b[39m _snd\u001b[39m.\u001b[39msf_error(file_ptr)\n\u001b[0;32m-> 1213\u001b[0m     \u001b[39mraise\u001b[39;00m LibsndfileError(err, prefix\u001b[39m=\u001b[39m\u001b[39m\"\u001b[39m\u001b[39mError opening \u001b[39m\u001b[39m{0!r}\u001b[39;00m\u001b[39m: \u001b[39m\u001b[39m\"\u001b[39m\u001b[39m.\u001b[39mformat(\u001b[39mself\u001b[39m\u001b[39m.\u001b[39mname))\n\u001b[1;32m   1214\u001b[0m \u001b[39mif\u001b[39;00m mode_int \u001b[39m==\u001b[39m _snd\u001b[39m.\u001b[39mSFM_WRITE:\n\u001b[1;32m   1215\u001b[0m     \u001b[39m# Due to a bug in libsndfile version <= 1.0.25, frames != 0\u001b[39;00m\n\u001b[1;32m   1216\u001b[0m     \u001b[39m# when opening a named pipe in SFM_WRITE mode.\u001b[39;00m\n\u001b[1;32m   1217\u001b[0m     \u001b[39m# See http://github.com/erikd/libsndfile/issues/77.\u001b[39;00m\n",
      "\u001b[0;31mLibsndfileError\u001b[0m: Error opening 'audio/soul_piano.wav': System error.",
      "\nDuring handling of the above exception, another exception occurred:\n",
      "\u001b[0;31mFileNotFoundError\u001b[0m                         Traceback (most recent call last)",
      "\u001b[1;32m/Users/louisbusby/Documents/UAL/23-24/STEM/STEM-Week-1.ipynb Cell 40\u001b[0m in \u001b[0;36m<cell line: 5>\u001b[0;34m()\u001b[0m\n\u001b[1;32m      <a href='vscode-notebook-cell:/Users/louisbusby/Documents/UAL/23-24/STEM/STEM-Week-1.ipynb#X54sZmlsZQ%3D%3D?line=1'>2</a>\u001b[0m file_path \u001b[39m=\u001b[39m \u001b[39m'\u001b[39m\u001b[39maudio/soul_piano.wav\u001b[39m\u001b[39m'\u001b[39m\n\u001b[1;32m      <a href='vscode-notebook-cell:/Users/louisbusby/Documents/UAL/23-24/STEM/STEM-Week-1.ipynb#X54sZmlsZQ%3D%3D?line=3'>4</a>\u001b[0m \u001b[39m#Read audio file and make a player\u001b[39;00m\n\u001b[0;32m----> <a href='vscode-notebook-cell:/Users/louisbusby/Documents/UAL/23-24/STEM/STEM-Week-1.ipynb#X54sZmlsZQ%3D%3D?line=4'>5</a>\u001b[0m audio_data, rate \u001b[39m=\u001b[39m librosa\u001b[39m.\u001b[39;49mload(file_path)\n\u001b[1;32m      <a href='vscode-notebook-cell:/Users/louisbusby/Documents/UAL/23-24/STEM/STEM-Week-1.ipynb#X54sZmlsZQ%3D%3D?line=5'>6</a>\u001b[0m Audio(audio_data, rate\u001b[39m=\u001b[39mrate, autoplay\u001b[39m=\u001b[39m\u001b[39mTrue\u001b[39;00m)\n",
      "File \u001b[0;32m~/opt/miniconda3/envs/tf_m1/lib/python3.9/site-packages/librosa/util/decorators.py:88\u001b[0m, in \u001b[0;36mdeprecate_positional_args.<locals>._inner_deprecate_positional_args.<locals>.inner_f\u001b[0;34m(*args, **kwargs)\u001b[0m\n\u001b[1;32m     86\u001b[0m extra_args \u001b[39m=\u001b[39m \u001b[39mlen\u001b[39m(args) \u001b[39m-\u001b[39m \u001b[39mlen\u001b[39m(all_args)\n\u001b[1;32m     87\u001b[0m \u001b[39mif\u001b[39;00m extra_args \u001b[39m<\u001b[39m\u001b[39m=\u001b[39m \u001b[39m0\u001b[39m:\n\u001b[0;32m---> 88\u001b[0m     \u001b[39mreturn\u001b[39;00m f(\u001b[39m*\u001b[39;49margs, \u001b[39m*\u001b[39;49m\u001b[39m*\u001b[39;49mkwargs)\n\u001b[1;32m     90\u001b[0m \u001b[39m# extra_args > 0\u001b[39;00m\n\u001b[1;32m     91\u001b[0m args_msg \u001b[39m=\u001b[39m [\n\u001b[1;32m     92\u001b[0m     \u001b[39m\"\u001b[39m\u001b[39m{}\u001b[39;00m\u001b[39m=\u001b[39m\u001b[39m{}\u001b[39;00m\u001b[39m\"\u001b[39m\u001b[39m.\u001b[39mformat(name, arg)\n\u001b[1;32m     93\u001b[0m     \u001b[39mfor\u001b[39;00m name, arg \u001b[39min\u001b[39;00m \u001b[39mzip\u001b[39m(kwonly_args[:extra_args], args[\u001b[39m-\u001b[39mextra_args:])\n\u001b[1;32m     94\u001b[0m ]\n",
      "File \u001b[0;32m~/opt/miniconda3/envs/tf_m1/lib/python3.9/site-packages/librosa/core/audio.py:170\u001b[0m, in \u001b[0;36mload\u001b[0;34m(path, sr, mono, offset, duration, dtype, res_type)\u001b[0m\n\u001b[1;32m    168\u001b[0m \u001b[39mif\u001b[39;00m \u001b[39misinstance\u001b[39m(path, (\u001b[39mstr\u001b[39m, pathlib\u001b[39m.\u001b[39mPurePath)):\n\u001b[1;32m    169\u001b[0m     warnings\u001b[39m.\u001b[39mwarn(\u001b[39m\"\u001b[39m\u001b[39mPySoundFile failed. Trying audioread instead.\u001b[39m\u001b[39m\"\u001b[39m, stacklevel\u001b[39m=\u001b[39m\u001b[39m2\u001b[39m)\n\u001b[0;32m--> 170\u001b[0m     y, sr_native \u001b[39m=\u001b[39m __audioread_load(path, offset, duration, dtype)\n\u001b[1;32m    171\u001b[0m \u001b[39melse\u001b[39;00m:\n\u001b[1;32m    172\u001b[0m     \u001b[39mraise\u001b[39;00m exc\n",
      "File \u001b[0;32m~/opt/miniconda3/envs/tf_m1/lib/python3.9/site-packages/librosa/core/audio.py:226\u001b[0m, in \u001b[0;36m__audioread_load\u001b[0;34m(path, offset, duration, dtype)\u001b[0m\n\u001b[1;32m    223\u001b[0m     reader \u001b[39m=\u001b[39m path\n\u001b[1;32m    224\u001b[0m \u001b[39melse\u001b[39;00m:\n\u001b[1;32m    225\u001b[0m     \u001b[39m# If the input was not an audioread object, try to open it\u001b[39;00m\n\u001b[0;32m--> 226\u001b[0m     reader \u001b[39m=\u001b[39m audioread\u001b[39m.\u001b[39;49maudio_open(path)\n\u001b[1;32m    228\u001b[0m \u001b[39mwith\u001b[39;00m reader \u001b[39mas\u001b[39;00m input_file:\n\u001b[1;32m    229\u001b[0m     sr_native \u001b[39m=\u001b[39m input_file\u001b[39m.\u001b[39msamplerate\n",
      "File \u001b[0;32m~/opt/miniconda3/envs/tf_m1/lib/python3.9/site-packages/audioread/__init__.py:127\u001b[0m, in \u001b[0;36maudio_open\u001b[0;34m(path, backends)\u001b[0m\n\u001b[1;32m    125\u001b[0m \u001b[39mfor\u001b[39;00m BackendClass \u001b[39min\u001b[39;00m backends:\n\u001b[1;32m    126\u001b[0m     \u001b[39mtry\u001b[39;00m:\n\u001b[0;32m--> 127\u001b[0m         \u001b[39mreturn\u001b[39;00m BackendClass(path)\n\u001b[1;32m    128\u001b[0m     \u001b[39mexcept\u001b[39;00m DecodeError:\n\u001b[1;32m    129\u001b[0m         \u001b[39mpass\u001b[39;00m\n",
      "File \u001b[0;32m~/opt/miniconda3/envs/tf_m1/lib/python3.9/site-packages/audioread/rawread.py:59\u001b[0m, in \u001b[0;36mRawAudioFile.__init__\u001b[0;34m(self, filename)\u001b[0m\n\u001b[1;32m     58\u001b[0m \u001b[39mdef\u001b[39;00m \u001b[39m__init__\u001b[39m(\u001b[39mself\u001b[39m, filename):\n\u001b[0;32m---> 59\u001b[0m     \u001b[39mself\u001b[39m\u001b[39m.\u001b[39m_fh \u001b[39m=\u001b[39m \u001b[39mopen\u001b[39;49m(filename, \u001b[39m'\u001b[39;49m\u001b[39mrb\u001b[39;49m\u001b[39m'\u001b[39;49m)\n\u001b[1;32m     61\u001b[0m     \u001b[39mtry\u001b[39;00m:\n\u001b[1;32m     62\u001b[0m         \u001b[39mself\u001b[39m\u001b[39m.\u001b[39m_file \u001b[39m=\u001b[39m aifc\u001b[39m.\u001b[39mopen(\u001b[39mself\u001b[39m\u001b[39m.\u001b[39m_fh)\n",
      "\u001b[0;31mFileNotFoundError\u001b[0m: [Errno 2] No such file or directory: 'audio/soul_piano.wav'"
     ]
    }
   ],
   "source": [
    "#Set the file path for the audio, we have given it --relative-- to the notebook\n",
    "file_path = 'audio/soul_piano.wav'\n",
    "\n",
    "#Read audio file and make a player\n",
    "audio_data, rate = librosa.load(file_path)\n",
    "Audio(audio_data, rate=rate, autoplay=True)"
   ]
  },
  {
   "cell_type": "markdown",
   "metadata": {},
   "source": [
    "## Tasks - 3\n",
    "\n",
    "1. Find a new audio file on your computer and copy it into the ``audio/`` folder. Change the ``file_path`` variable to play it! \n",
    "\n",
    "\n",
    "2. The current `file_path` is given **relative** to the notebook. Can you change the ``file_path`` to play an audio file **somewhere else** on your computer? E.g. not in the ``audio/`` folder?\n",
    "\n",
    "\n",
    "**PRO TIP** If you want to get the file path of a file on MacOSX, just drag it into the ``Terminal`` (command line)"
   ]
  },
  {
   "cell_type": "code",
   "execution_count": null,
   "metadata": {},
   "outputs": [],
   "source": [
    "#Answers here"
   ]
  },
  {
   "cell_type": "code",
   "execution_count": 1,
   "metadata": {},
   "outputs": [
    {
     "name": "stdout",
     "output_type": "stream",
     "text": [
      "['EVENT_FLAG_ALTKEY', 'EVENT_FLAG_CTRLKEY', 'EVENT_FLAG_LBUTTON', 'EVENT_FLAG_MBUTTON', 'EVENT_FLAG_RBUTTON', 'EVENT_FLAG_SHIFTKEY', 'EVENT_LBUTTONDBLCLK', 'EVENT_LBUTTONDOWN', 'EVENT_LBUTTONUP', 'EVENT_MBUTTONDBLCLK', 'EVENT_MBUTTONDOWN', 'EVENT_MBUTTONUP', 'EVENT_MOUSEHWHEEL', 'EVENT_MOUSEMOVE', 'EVENT_MOUSEWHEEL', 'EVENT_RBUTTONDBLCLK', 'EVENT_RBUTTONDOWN', 'EVENT_RBUTTONUP']\n"
     ]
    }
   ],
   "source": [
    "import cv2 as cv\n",
    "events = [i for i in dir(cv) if 'EVENT' in i]\n",
    "print( events )"
   ]
  },
  {
   "cell_type": "code",
   "execution_count": null,
   "metadata": {},
   "outputs": [],
   "source": []
  }
 ],
 "metadata": {
  "kernelspec": {
   "display_name": "Python 3 (ipykernel)",
   "language": "python",
   "name": "python3"
  },
  "language_info": {
   "codemirror_mode": {
    "name": "ipython",
    "version": 3
   },
   "file_extension": ".py",
   "mimetype": "text/x-python",
   "name": "python",
   "nbconvert_exporter": "python",
   "pygments_lexer": "ipython3",
   "version": "3.9.13"
  },
  "varInspector": {
   "cols": {
    "lenName": 16,
    "lenType": 16,
    "lenVar": 40
   },
   "kernels_config": {
    "python": {
     "delete_cmd_postfix": "",
     "delete_cmd_prefix": "del ",
     "library": "var_list.py",
     "varRefreshCmd": "print(var_dic_list())"
    },
    "r": {
     "delete_cmd_postfix": ") ",
     "delete_cmd_prefix": "rm(",
     "library": "var_list.r",
     "varRefreshCmd": "cat(var_dic_list()) "
    }
   },
   "types_to_exclude": [
    "module",
    "function",
    "builtin_function_or_method",
    "instance",
    "_Feature"
   ],
   "window_display": false
  }
 },
 "nbformat": 4,
 "nbformat_minor": 4
}
