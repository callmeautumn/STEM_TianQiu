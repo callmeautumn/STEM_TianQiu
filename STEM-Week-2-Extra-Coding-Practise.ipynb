{
 "cells": [
  {
   "cell_type": "markdown",
   "metadata": {},
   "source": [
    "# STEM For Creatives Week 2"
   ]
  },
  {
   "cell_type": "markdown",
   "metadata": {},
   "source": [
    "Here is some extra tasks if you want some practise!\n",
    "\n",
    "#### Using ``len()``\n",
    "\n",
    "The second built in **function** we'll learn is ``len()``, which we can use with ``strings``. It takes the given input (an ``argument``), and ``returns`` its length. "
   ]
  },
  {
   "cell_type": "code",
   "execution_count": null,
   "metadata": {
    "scrolled": true
   },
   "outputs": [],
   "source": [
    "x = len(\"mystring\")\n",
    "print(x)"
   ]
  },
  {
   "cell_type": "markdown",
   "metadata": {},
   "source": [
    "#### Using ``min()``\n",
    "\n",
    "The ``type`` of the arguments that you give to functions (strings, ints etc...) matters. If you try to give the wrong type of value, the function won't know what to do and you might get an error! \n",
    "\n",
    "So, there are also built in functions that expect numbers arguments. Specifically, ``min()`` expects **2 numbers**, and returns the smallest"
   ]
  },
  {
   "cell_type": "code",
   "execution_count": null,
   "metadata": {},
   "outputs": [],
   "source": [
    "min(4,10000)"
   ]
  },
  {
   "cell_type": "code",
   "execution_count": null,
   "metadata": {},
   "outputs": [],
   "source": [
    "## Needs two arguments!\n",
    "min(4)"
   ]
  },
  {
   "cell_type": "markdown",
   "metadata": {},
   "source": [
    "### Task - 1\n",
    "\n",
    "1. Write some code which takes two variables, each containing a string, `concatenates` them together and prints out the length of the combined string.\n"
   ]
  },
  {
   "cell_type": "code",
   "execution_count": null,
   "metadata": {},
   "outputs": [],
   "source": [
    "## Answers here"
   ]
  },
  {
   "cell_type": "markdown",
   "metadata": {},
   "source": [
    "2. Write some code which takes two variables, each containing a string, and prints out the length of the smallest one. "
   ]
  },
  {
   "cell_type": "code",
   "execution_count": null,
   "metadata": {},
   "outputs": [],
   "source": [
    "## Answers here"
   ]
  },
  {
   "cell_type": "markdown",
   "metadata": {},
   "source": [
    "### String Functions\n",
    "\n",
    "Functions can also return **belong to objects**. So rather than just calling them with their name, we call them with a **specific object**.\n",
    "\n",
    "For example, we call the function ``lower()`` from the string ``\"THERES NO NEED TO SHOUT\"`` using the ``.`` notation. This functions returns a lower case version of the **string it was called on**. \n",
    "\n",
    "Take a look at the two versions below. Because the ``lower()`` function doesnt **change** the string, but **returns a new version** that is changed, when we ``print(a)`` in the first version of the code, the variable `a` has not been updated, and the printed version is still **upper case**. \n",
    "\n",
    "However, in the second version, we save the returned value from the ``lower()`` function **back into the variable `a`**. Now when we print it out, we have the lower-cased version.\n",
    "\n",
    "Can you see the how they are different?"
   ]
  },
  {
   "cell_type": "code",
   "execution_count": null,
   "metadata": {},
   "outputs": [],
   "source": [
    "a = \"THERES NO NEED TO SHOUT\"\n",
    "#here we dont overwrite the variable with the result, so a is still LOUD \n",
    "a.lower()\n",
    "print(a)"
   ]
  },
  {
   "cell_type": "code",
   "execution_count": null,
   "metadata": {},
   "outputs": [],
   "source": [
    "a = \"THERES NO NEED TO SHOUT\"\n",
    "##overwrite the variable with the result \n",
    "a = a.lower()\n",
    "print(a)"
   ]
  },
  {
   "cell_type": "markdown",
   "metadata": {},
   "source": [
    "### Task - 2\n",
    "\n",
    "1. The ``.upper()`` function is called on a ``string`` and **returns** an upper case version of that string. Write some code that takes a given variable and stores the uppercase version of it in a **different variable**. It should then print out both on the same line, stating that the upper case one is the rude version e.g. \n",
    "\n",
    "``\n",
    "\"GET ME SOME CHEESE is the rude way to say get me some cheese\"\n",
    "``"
   ]
  },
  {
   "cell_type": "code",
   "execution_count": null,
   "metadata": {},
   "outputs": [],
   "source": [
    "#Answer here "
   ]
  },
  {
   "cell_type": "markdown",
   "metadata": {},
   "source": [
    "### Tasks - 3\n",
    "\n",
    "1. Write some code which compares the string variable ``user_entry`` to `password` and prints `\"Success\"` if they match \n"
   ]
  },
  {
   "cell_type": "code",
   "execution_count": null,
   "metadata": {},
   "outputs": [],
   "source": [
    "#Answers here\n"
   ]
  },
  {
   "cell_type": "markdown",
   "metadata": {},
   "source": [
    "2. Update your code so that the match still works even if the capitalisation of ``user_entry`` and `password` is different e.g. \n",
    "\n",
    "``\n",
    "\"MYpasSWord\" compared to \"myPassword\" ==> SUCCESS!\n",
    "``"
   ]
  },
  {
   "cell_type": "code",
   "execution_count": null,
   "metadata": {},
   "outputs": [],
   "source": [
    "#Answers here\n"
   ]
  },
  {
   "cell_type": "markdown",
   "metadata": {},
   "source": [
    "3. Correct the indentation of this code \n"
   ]
  },
  {
   "cell_type": "code",
   "execution_count": null,
   "metadata": {},
   "outputs": [],
   "source": [
    "a = 4\n",
    "if a < 3:\n",
    "print(\"too small\")\n",
    "else:\n",
    "print(\"just right\")"
   ]
  },
  {
   "cell_type": "markdown",
   "metadata": {},
   "source": [
    "4. Write some code that prints a warning if the given ``voucher_code`` is over 6 characters long. "
   ]
  },
  {
   "cell_type": "code",
   "execution_count": null,
   "metadata": {},
   "outputs": [],
   "source": [
    "#Answers here\n",
    "voucher_code = \"123rwesdfasdf234\""
   ]
  },
  {
   "cell_type": "markdown",
   "metadata": {},
   "source": [
    "5. Below is the code from last week we saw being use dto play back an audio file. As well as changing the `file_path`, we can also change the `rate` variable. This will decide how **fast or slow** the sound is played back.\n",
    "\n",
    "Edit the following code so that \n",
    "\n",
    "\n",
    "* There is a variable that holds a string called `playback_speed`\n",
    "\n",
    "\n",
    "* If `playback_speed` is `\"fast\"`, then multiply the rate by 2 and playback the audio\n",
    "\n",
    "\n",
    "* If `playback_speed` is `\"slow\"`, then divide the rate by 2 and playback the audio\n",
    "\n",
    "\n",
    "* Else, print out a statement that reads `\"Invalid instruction\"`"
   ]
  },
  {
   "cell_type": "code",
   "execution_count": null,
   "metadata": {},
   "outputs": [],
   "source": [
    "#Answers here\n",
    "\n",
    "import librosa\n",
    "import IPython.display as ipd\n",
    "audio_data, rate = librosa.load('audio/gospel.wav')\n",
    "\n",
    "##YOUR CODE HERE##\n",
    "\n",
    "ipd.Audio(audio_data, rate=rate, autoplay=True)"
   ]
  },
  {
   "cell_type": "markdown",
   "metadata": {},
   "source": [
    "### Tasks - 4\n",
    "\n",
    "1. Building the **worlds worst genre checker**. Write some code that prints out \n",
    "\n",
    "* `\"Rock\"` if a given `artist` variable is `\"Metalica\"` or `\"Oasis\"`\n",
    "\n",
    "\n",
    "* `\"Pop\"` if its `\"Carly Rae\"` or `\"Madonna\"`\n",
    "\n",
    "\n",
    "* Otherwise, `\"Unknown\"`\n"
   ]
  },
  {
   "cell_type": "code",
   "execution_count": null,
   "metadata": {},
   "outputs": [],
   "source": [
    "# Answers Here\n",
    "artist = \"INSERT-BAND\""
   ]
  },
  {
   "cell_type": "markdown",
   "metadata": {},
   "source": [
    "\n",
    "\n",
    "2. A theatre wants to give away free tickets to all of its members who have consented to this, and who live nearby. Write some code which checks for a given member whether a variable `distance` is under 100 and another variable `wants_tickets` is `True` and prints `\"send tickets\"`."
   ]
  },
  {
   "cell_type": "code",
   "execution_count": null,
   "metadata": {},
   "outputs": [],
   "source": [
    "# Answers Here\n",
    "distance = 100\n",
    "wants_tickets = False\n"
   ]
  },
  {
   "cell_type": "markdown",
   "metadata": {},
   "source": [
    "### Tasks - 5\n",
    "\n",
    "1. Make a list that contains all the odd numbers from 1 - 11 and store it in variable called `i_hate_evens`\n",
    "\n"
   ]
  },
  {
   "cell_type": "code",
   "execution_count": null,
   "metadata": {},
   "outputs": [],
   "source": [
    "#YOUR CODE HERE\n"
   ]
  },
  {
   "cell_type": "markdown",
   "metadata": {},
   "source": [
    "2. Given the following list, write some code that changes the **third** item to `\"Cancelled\"`.\n"
   ]
  },
  {
   "cell_type": "code",
   "execution_count": null,
   "metadata": {},
   "outputs": [],
   "source": [
    "bookings = [8.30, 10, 10.30, 11, 15]\n",
    "#YOUR CODE HERE\n"
   ]
  },
  {
   "cell_type": "markdown",
   "metadata": {},
   "source": [
    "3. Write some code that takes a list of numbers called `bookings` and prints `\"early start!\"` if the **first booking** is **before 8**. If the **first booking** is **after 12** print `\"lie in!\"`. Otherwise, just print the **first booking** itself. "
   ]
  },
  {
   "cell_type": "code",
   "execution_count": null,
   "metadata": {},
   "outputs": [],
   "source": [
    "#YOUR CODE HERE\n"
   ]
  },
  {
   "cell_type": "markdown",
   "metadata": {},
   "source": [
    "4. We can also use the `len()` function to get the length of a list. Because we start indexing at 0, the index of the **last item in a list is the length - 1**. Write some code that takes the a list of strings called `finishing_times` and overwrites the **last value** with `\"YOU LOST\"`."
   ]
  },
  {
   "cell_type": "code",
   "execution_count": null,
   "metadata": {},
   "outputs": [],
   "source": [
    "#YOUR CODE HERE"
   ]
  },
  {
   "cell_type": "markdown",
   "metadata": {},
   "source": [
    "5. Add some more code to this so `age` gets appended to `acceptable_ages_to_skateboard`, but **only** if its less than 13"
   ]
  },
  {
   "cell_type": "code",
   "execution_count": null,
   "metadata": {},
   "outputs": [],
   "source": [
    "age = 27\n",
    "accceptable_ages_to_skateboard = [4,5,6,7]\n",
    "\n",
    "#YOUR CODE HERE\n"
   ]
  },
  {
   "cell_type": "markdown",
   "metadata": {},
   "source": [
    "6. Edit this code using a ``if-else statement`` and the `len()` function (which gives you the length of the list) so that **it only prints out the outfit name** if the ``index`` is **less than than the length of the list ``outfits``**. Print a warning if the given ``index`` is too big. "
   ]
  },
  {
   "cell_type": "code",
   "execution_count": null,
   "metadata": {},
   "outputs": [],
   "source": [
    "index = 5\n",
    "outfits = [\"summer\", \"outdoors\", \"comfort\"]\n",
    "#YOUR CODE HERE\n",
    "\n",
    "print(outfits[index])"
   ]
  }
 ],
 "metadata": {
  "kernelspec": {
   "display_name": "Python 3 (ipykernel)",
   "language": "python",
   "name": "python3"
  },
  "language_info": {
   "codemirror_mode": {
    "name": "ipython",
    "version": 3
   },
   "file_extension": ".py",
   "mimetype": "text/x-python",
   "name": "python",
   "nbconvert_exporter": "python",
   "pygments_lexer": "ipython3",
   "version": "3.9.13"
  },
  "varInspector": {
   "cols": {
    "lenName": 16,
    "lenType": 16,
    "lenVar": 40
   },
   "kernels_config": {
    "python": {
     "delete_cmd_postfix": "",
     "delete_cmd_prefix": "del ",
     "library": "var_list.py",
     "varRefreshCmd": "print(var_dic_list())"
    },
    "r": {
     "delete_cmd_postfix": ") ",
     "delete_cmd_prefix": "rm(",
     "library": "var_list.r",
     "varRefreshCmd": "cat(var_dic_list()) "
    }
   },
   "types_to_exclude": [
    "module",
    "function",
    "builtin_function_or_method",
    "instance",
    "_Feature"
   ],
   "window_display": false
  }
 },
 "nbformat": 4,
 "nbformat_minor": 4
}
