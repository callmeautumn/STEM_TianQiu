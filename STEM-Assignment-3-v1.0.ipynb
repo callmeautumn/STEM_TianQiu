{
 "cells": [
  {
   "cell_type": "code",
   "execution_count": 21,
   "metadata": {},
   "outputs": [],
   "source": [
    "import librosa\n",
    "import librosa.display\n",
    "import numpy as np\n",
    "import matplotlib.pyplot as plt\n",
    "import IPython.display as ipd\n",
    "import cv2 \n",
    "from Animator import Animator\n",
    "from MusicAnalyser import MusicAnalyser\n",
    "\n"
   ]
  },
  {
   "cell_type": "code",
   "execution_count": 22,
   "metadata": {},
   "outputs": [],
   "source": [
    "y, sr = librosa.load('audio/fanfangxiang.wav')"
   ]
  },
  {
   "cell_type": "code",
   "execution_count": 36,
   "metadata": {},
   "outputs": [
    {
     "name": "stdout",
     "output_type": "stream",
     "text": [
      "init\n",
      "setup\n",
      "################################################################################\n",
      "press Return to kill  music\n",
      "################################################################################\n"
     ]
    },
    {
     "data": {
      "text/plain": [
       "<__main__.MySketch at 0x112de43bf40>"
      ]
     },
     "execution_count": 36,
     "metadata": {},
     "output_type": "execute_result"
    }
   ],
   "source": [
    "file_path = \"audio/fanfangxiang.wav\"\n",
    "mus = MusicAnalyser(file_path)\n",
    "an = Animator(640, 480)\n",
    "\n",
    "class MySketch:\n",
    "\n",
    "    show_beat = 0\n",
    "\n",
    "    def __init__(self):\n",
    "        an.start_loop(self.setup, self.draw)  \n",
    "            \n",
    "    def setup(self):\n",
    "        print(\"setup\")\n",
    "        \n",
    "    def draw(self):\n",
    "        col = (255,255,255)\n",
    "        if mus.is_beat():\n",
    "            self.show_beat = 25\n",
    "\n",
    "        if self.show_beat > 0:\n",
    "            col = (186,85,211)\n",
    "\n",
    "        an.background(col)\n",
    "\n",
    "        for i, val in enumerate(mus.fft_vals):\n",
    "            x = int(i * 0.8)  # Adjust the multiplier for increased density\n",
    "            y = an.height - int(val * 80)\n",
    "            size = 10  # Set the size of the rectangle\n",
    "            cv2.rectangle(an.canvas, (x - size // 3, y - size // 3), (x + size // 2, y + size // 3), (248,205,248), -1)\n",
    "         \n",
    "        \n",
    "        self.show_beat -= 1\n",
    "\n",
    "# Create MySketch instance\n",
    "MySketch()\n"
   ]
  }
 ],
 "metadata": {
  "kernelspec": {
   "display_name": "tf_m1",
   "language": "python",
   "name": "python3"
  },
  "language_info": {
   "codemirror_mode": {
    "name": "ipython",
    "version": 3
   },
   "file_extension": ".py",
   "mimetype": "text/x-python",
   "name": "python",
   "nbconvert_exporter": "python",
   "pygments_lexer": "ipython3",
   "version": "3.9.18"
  },
  "orig_nbformat": 4
 },
 "nbformat": 4,
 "nbformat_minor": 2
}
