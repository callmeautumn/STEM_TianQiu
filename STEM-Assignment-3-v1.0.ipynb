{
 "cells": [
  {
   "cell_type": "code",
   "execution_count": 47,
   "metadata": {},
   "outputs": [],
   "source": [
    "import librosa\n",
    "import librosa.display\n",
    "import numpy as np\n",
    "import matplotlib.pyplot as plt\n",
    "import IPython.display as ipd\n",
    "from cv2 import line\n",
    "from Animator import Animator\n",
    "from MusicAnalyser import MusicAnalyser"
   ]
  },
  {
   "cell_type": "code",
   "execution_count": 48,
   "metadata": {},
   "outputs": [],
   "source": [
    "y, sr = librosa.load('audio/fanfangxiang.wav')"
   ]
  },
  {
   "cell_type": "code",
   "execution_count": 49,
   "metadata": {},
   "outputs": [
    {
     "name": "stdout",
     "output_type": "stream",
     "text": [
      "init\n",
      "setup\n",
      "################################################################################\n",
      "press Return to kill  music\n",
      "################################################################################\n"
     ]
    },
    {
     "data": {
      "text/plain": [
       "<__main__.MySketch at 0x1d3642c6d00>"
      ]
     },
     "execution_count": 49,
     "metadata": {},
     "output_type": "execute_result"
    }
   ],
   "source": [
    "file_path = \"audio/fanfangxiang.wav\"\n",
    "mus = MusicAnalyser(file_path)\n",
    "an = Animator(640, 480)\n",
    "\n",
    "class MySketch:\n",
    "    show_beat = 0\n",
    "\n",
    "    def __init__(self):\n",
    "        an.start_loop(self.setup, self.draw)  \n",
    "            \n",
    "    def setup(self):\n",
    "        print(\"setup\")\n",
    "        \n",
    "    def draw(self):\n",
    "        global mus  # 将mus声明为全局变量，以便在draw方法中访问它\n",
    "\n",
    "        col = (240, 240, 240)\n",
    "        if mus.is_beat():\n",
    "            self.show_beat = 25\n",
    "            col = (255, 0, 0)  # 在节奏时将颜色更改为红色\n",
    "           \n",
    "        if self.show_beat > 0:\n",
    "            col = (180, 180, 180)\n",
    "\n",
    "        an.background(col)\n",
    "\n",
    "        for i, val in enumerate(mus.fft_vals):\n",
    "            x = i * 1\n",
    "            y = an.height - int(val * 60)\n",
    "            normalized_val = min(max(val, 0), 1)  # 将频谱值规范化到 [0, 1] 之间\n",
    "            line_color = (int(145 * normalized_val), 0, int(102 * (1 - normalized_val)))  # 根据频谱值调整颜色\n",
    "            line(an.canvas, (x, an.height), (x, y), line_color, 1)\n",
    "    \n",
    "        self.show_beat -= 1\n",
    "\n",
    "# 创建 MySketch 实例\n",
    "MySketch()\n"
   ]
  }
 ],
 "metadata": {
  "kernelspec": {
   "display_name": "tf_m1",
   "language": "python",
   "name": "python3"
  },
  "language_info": {
   "codemirror_mode": {
    "name": "ipython",
    "version": 3
   },
   "file_extension": ".py",
   "mimetype": "text/x-python",
   "name": "python",
   "nbconvert_exporter": "python",
   "pygments_lexer": "ipython3",
   "version": "3.9.18"
  },
  "orig_nbformat": 4
 },
 "nbformat": 4,
 "nbformat_minor": 2
}
