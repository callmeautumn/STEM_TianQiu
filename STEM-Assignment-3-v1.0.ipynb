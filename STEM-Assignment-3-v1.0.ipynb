{
 "cells": [
  {
   "cell_type": "code",
   "execution_count": 9,
   "metadata": {},
   "outputs": [],
   "source": [
    "import librosa\n",
    "import librosa.display\n",
    "import numpy as np\n",
    "import matplotlib.pyplot as plt\n",
    "import IPython.display as ipd\n",
    "from cv2 import line\n",
    "from Animator import Animator\n",
    "from MusicAnalyser import MusicAnalyser"
   ]
  },
  {
   "cell_type": "code",
   "execution_count": 10,
   "metadata": {},
   "outputs": [],
   "source": [
    "y, sr = librosa.load('audio/fanfangxiang.wav')"
   ]
  },
  {
   "cell_type": "code",
   "execution_count": 1,
   "metadata": {},
   "outputs": [
    {
     "ename": "NameError",
     "evalue": "name 'MusicAnalyser' is not defined",
     "output_type": "error",
     "traceback": [
      "\u001b[1;31m---------------------------------------------------------------------------\u001b[0m",
      "\u001b[1;31mNameError\u001b[0m                                 Traceback (most recent call last)",
      "\u001b[1;32mc:\\Users\\28384\\Documents\\GitHub\\STEM_TianQiu\\STEM-Assignment-3-v1.0.ipynb 单元格 3\u001b[0m line \u001b[0;36m2\n\u001b[0;32m      <a href='vscode-notebook-cell:/c%3A/Users/28384/Documents/GitHub/STEM_TianQiu/STEM-Assignment-3-v1.0.ipynb#W2sZmlsZQ%3D%3D?line=0'>1</a>\u001b[0m file_path \u001b[39m=\u001b[39m \u001b[39m\"\u001b[39m\u001b[39maudio/fanfangxiang.wav\u001b[39m\u001b[39m\"\u001b[39m\n\u001b[1;32m----> <a href='vscode-notebook-cell:/c%3A/Users/28384/Documents/GitHub/STEM_TianQiu/STEM-Assignment-3-v1.0.ipynb#W2sZmlsZQ%3D%3D?line=1'>2</a>\u001b[0m mus \u001b[39m=\u001b[39m MusicAnalyser(file_path)\n\u001b[0;32m      <a href='vscode-notebook-cell:/c%3A/Users/28384/Documents/GitHub/STEM_TianQiu/STEM-Assignment-3-v1.0.ipynb#W2sZmlsZQ%3D%3D?line=2'>3</a>\u001b[0m an \u001b[39m=\u001b[39m Animator(\u001b[39m640\u001b[39m, \u001b[39m480\u001b[39m)\n\u001b[0;32m      <a href='vscode-notebook-cell:/c%3A/Users/28384/Documents/GitHub/STEM_TianQiu/STEM-Assignment-3-v1.0.ipynb#W2sZmlsZQ%3D%3D?line=4'>5</a>\u001b[0m \u001b[39mclass\u001b[39;00m \u001b[39mMySketch\u001b[39;00m:\n",
      "\u001b[1;31mNameError\u001b[0m: name 'MusicAnalyser' is not defined"
     ]
    }
   ],
   "source": [
    "file_path = \"audio/fanfangxiang.wav\"\n",
    "mus = MusicAnalyser(file_path)\n",
    "an = Animator(640, 480)\n",
    "\n",
    "class MySketch:\n",
    "\n",
    "    show_beat = 0\n",
    "\n",
    "    def __init__(self):\n",
    "        an.start_loop(self.setup, self.draw)  \n",
    "            \n",
    "    def setup(self):\n",
    "        print(\"setup\")\n",
    "        \n",
    "    def draw(self):\n",
    "        col = (0, 0, 0)\n",
    "        if mus.is_beat():\n",
    "            self.show_beat = 25\n",
    "           \n",
    "        if self.show_beat > 0:\n",
    "            \n",
    "            col = (255, 255, 255)\n",
    "\n",
    "        an.background(col)\n",
    "\n",
    "        for i, val in enumerate(mus.fft_vals):\n",
    "            x = i * 2\n",
    "            y = an.height - int(val * 100)\n",
    "            line(an.canvas, (x, an.height), (x, y), (0, 255, 0), 1)\n",
    "    \n",
    "        self.show_beat -= 1\n",
    "\n",
    "# 创建 MySketch 实例\n",
    "MySketch()\n"
   ]
  }
 ],
 "metadata": {
  "kernelspec": {
   "display_name": "tf_m1",
   "language": "python",
   "name": "python3"
  },
  "language_info": {
   "codemirror_mode": {
    "name": "ipython",
    "version": 3
   },
   "file_extension": ".py",
   "mimetype": "text/x-python",
   "name": "python",
   "nbconvert_exporter": "python",
   "pygments_lexer": "ipython3",
   "version": "3.9.18"
  },
  "orig_nbformat": 4
 },
 "nbformat": 4,
 "nbformat_minor": 2
}
