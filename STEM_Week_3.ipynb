{
  "cells": [
    {
      "cell_type": "markdown",
      "metadata": {
        "id": "YUqvbDyP7f_l"
      },
      "source": [
        "# STEM for Creatives Week 3\n",
        "## Summarising Data\n",
        "\n",
        "\n",
        "In this lab, we're going to continue to work on your Python, and introduce some basic maths concepts for examining datasets using the [NumPy](https://numpy.org/doc/stable/) library.\n",
        "\n",
        "If after this lab you still want to work out whats going on, this [absolute beginners guide](https://numpy.org/doc/stable/user/absolute_beginners.html?highlight=csv) is super useful if you at any point want to do any extra NumPy work.\n",
        "\n",
        "We have provided you with split of the [This Is My Jam](https://archive.org/details/thisismyjam-datadump) data dump. (Its not all of it because thats massive). We're going to use the Python libraries NumPy, and [Matplotlib](https://matplotlib.org/) to check it out.\n",
        "\n"
      ]
    },
    {
      "cell_type": "code",
      "execution_count": 15,
      "metadata": {},
      "outputs": [
        {
          "name": "stdout",
          "output_type": "stream",
          "text": [
            "Collecting brokenaxes\n",
            "  Downloading brokenaxes-0.5.0-py3-none-any.whl (6.6 kB)\n",
            "Requirement already satisfied: matplotlib>3.4 in c:\\users\\rog\\anaconda3\\envs\\stem\\lib\\site-packages (from brokenaxes) (3.8.0)\n",
            "Requirement already satisfied: contourpy>=1.0.1 in c:\\users\\rog\\anaconda3\\envs\\stem\\lib\\site-packages (from matplotlib>3.4->brokenaxes) (1.1.1)\n",
            "Requirement already satisfied: cycler>=0.10 in c:\\users\\rog\\anaconda3\\envs\\stem\\lib\\site-packages (from matplotlib>3.4->brokenaxes) (0.12.1)\n",
            "Requirement already satisfied: fonttools>=4.22.0 in c:\\users\\rog\\anaconda3\\envs\\stem\\lib\\site-packages (from matplotlib>3.4->brokenaxes) (4.43.1)\n",
            "Requirement already satisfied: kiwisolver>=1.0.1 in c:\\users\\rog\\anaconda3\\envs\\stem\\lib\\site-packages (from matplotlib>3.4->brokenaxes) (1.4.5)\n",
            "Requirement already satisfied: numpy<2,>=1.21 in c:\\users\\rog\\anaconda3\\envs\\stem\\lib\\site-packages (from matplotlib>3.4->brokenaxes) (1.26.1)\n",
            "Requirement already satisfied: packaging>=20.0 in c:\\users\\rog\\anaconda3\\envs\\stem\\lib\\site-packages (from matplotlib>3.4->brokenaxes) (23.2)\n",
            "Requirement already satisfied: pillow>=6.2.0 in c:\\users\\rog\\anaconda3\\envs\\stem\\lib\\site-packages (from matplotlib>3.4->brokenaxes) (10.0.1)\n",
            "Requirement already satisfied: pyparsing>=2.3.1 in c:\\users\\rog\\anaconda3\\envs\\stem\\lib\\site-packages (from matplotlib>3.4->brokenaxes) (3.1.1)\n",
            "Requirement already satisfied: python-dateutil>=2.7 in c:\\users\\rog\\anaconda3\\envs\\stem\\lib\\site-packages (from matplotlib>3.4->brokenaxes) (2.8.2)\n",
            "Requirement already satisfied: importlib-resources>=3.2.0 in c:\\users\\rog\\anaconda3\\envs\\stem\\lib\\site-packages (from matplotlib>3.4->brokenaxes) (6.1.0)\n",
            "Requirement already satisfied: zipp>=3.1.0 in c:\\users\\rog\\anaconda3\\envs\\stem\\lib\\site-packages (from importlib-resources>=3.2.0->matplotlib>3.4->brokenaxes) (3.17.0)\n",
            "Requirement already satisfied: six>=1.5 in c:\\users\\rog\\anaconda3\\envs\\stem\\lib\\site-packages (from python-dateutil>=2.7->matplotlib>3.4->brokenaxes) (1.16.0)\n",
            "Installing collected packages: brokenaxes\n",
            "Successfully installed brokenaxes-0.5.0\n",
            "Note: you may need to restart the kernel to use updated packages.\n"
          ]
        }
      ],
      "source": [
        "pip install brokenaxes\n"
      ]
    },
    {
      "cell_type": "code",
      "execution_count": 25,
      "metadata": {},
      "outputs": [
        {
          "ename": "NameError",
          "evalue": "name '__file__' is not defined",
          "output_type": "error",
          "traceback": [
            "\u001b[1;31m---------------------------------------------------------------------------\u001b[0m",
            "\u001b[1;31mNameError\u001b[0m                                 Traceback (most recent call last)",
            "\u001b[1;32mc:\\Users\\ROG\\Documents\\GitHub\\STEM_TianQiu\\STEM_Week_3.ipynb Cell 3\u001b[0m line \u001b[0;36m7\n\u001b[0;32m      <a href='vscode-notebook-cell:/c%3A/Users/ROG/Documents/GitHub/STEM_TianQiu/STEM_Week_3.ipynb#W1sZmlsZQ%3D%3D?line=2'>3</a>\u001b[0m \u001b[39mfrom\u001b[39;00m \u001b[39mcodecs\u001b[39;00m \u001b[39mimport\u001b[39;00m \u001b[39mopen\u001b[39m\n\u001b[0;32m      <a href='vscode-notebook-cell:/c%3A/Users/ROG/Documents/GitHub/STEM_TianQiu/STEM_Week_3.ipynb#W1sZmlsZQ%3D%3D?line=3'>4</a>\u001b[0m \u001b[39mfrom\u001b[39;00m \u001b[39mos\u001b[39;00m \u001b[39mimport\u001b[39;00m path\n\u001b[1;32m----> <a href='vscode-notebook-cell:/c%3A/Users/ROG/Documents/GitHub/STEM_TianQiu/STEM_Week_3.ipynb#W1sZmlsZQ%3D%3D?line=6'>7</a>\u001b[0m here \u001b[39m=\u001b[39m path\u001b[39m.\u001b[39mabspath(path\u001b[39m.\u001b[39mdirname(\u001b[39m__file__\u001b[39;49m))\n\u001b[0;32m     <a href='vscode-notebook-cell:/c%3A/Users/ROG/Documents/GitHub/STEM_TianQiu/STEM_Week_3.ipynb#W1sZmlsZQ%3D%3D?line=9'>10</a>\u001b[0m \u001b[39mwith\u001b[39;00m \u001b[39mopen\u001b[39m(path\u001b[39m.\u001b[39mjoin(here, \u001b[39m'\u001b[39m\u001b[39mREADME.md\u001b[39m\u001b[39m'\u001b[39m), encoding\u001b[39m=\u001b[39m\u001b[39m'\u001b[39m\u001b[39mutf-8\u001b[39m\u001b[39m'\u001b[39m) \u001b[39mas\u001b[39;00m f:\n\u001b[0;32m     <a href='vscode-notebook-cell:/c%3A/Users/ROG/Documents/GitHub/STEM_TianQiu/STEM_Week_3.ipynb#W1sZmlsZQ%3D%3D?line=10'>11</a>\u001b[0m     long_description \u001b[39m=\u001b[39m f\u001b[39m.\u001b[39mread()\n",
            "\u001b[1;31mNameError\u001b[0m: name '__file__' is not defined"
          ]
        }
      ],
      "source": [
        "from setuptools import setup, find_packages\n",
        "# To use a consistent encoding\n",
        "from codecs import open\n",
        "from os import path\n",
        "\n",
        "\n",
        "here = path.abspath(path.dirname(__file__))\n",
        "\n",
        "\n",
        "with open(path.join(here, 'README.md'), encoding='utf-8') as f:\n",
        "    long_description = f.read()\n",
        "\n",
        "setup(\n",
        "    name='brokenaxes',\n",
        "    version='0.5.0',\n",
        "    description='Create broken axes',\n",
        "    long_description=long_description,\n",
        "    long_description_content_type=\"text/markdown\",\n",
        "    author='Ben Dichter',\n",
        "    url='https://github.com/bendichter/brokenaxes',\n",
        "    author_email='ben.dichter@gmail.com',\n",
        "    classifiers=[\n",
        "        'Intended Audience :: Science/Research',\n",
        "        'Topic :: Scientific/Engineering',\n",
        "        'Framework :: Matplotlib',\n",
        "        'License :: OSI Approved :: MIT License',\n",
        "        'Programming Language :: Python :: 3.5',\n",
        "        'Programming Language :: Python :: 3.6',\n",
        "        'Programming Language :: Python :: 3.7'\n",
        "    ],\n",
        "\n",
        "    keywords='data visualization',\n",
        "\n",
        "    #packages=find_packages(exclude=['docs']),\n",
        "    py_modules=[\"brokenaxes\"],\n",
        "\n",
        "    # List run-time dependencies here.  These will be installed by pip when\n",
        "    # your project is installed. For an analysis of \"install_requires\" vs pip's\n",
        "    # requirements files see:\n",
        "    # https://packaging.python.org/en/latest/requirements.html\n",
        "    install_requires=['matplotlib>3.4'],\n",
        "\n",
        "    # List additional groups of dependencies here (e.g. development\n",
        "    # dependencies). You can install these using the following syntax,\n",
        "    # for example:\n",
        "    # $ pip install -e .[dev,test]\n",
        "    extras_require={\n",
        "    #    'dev': ['check-manifest'],\n",
        "        'test': ['pytest'],\n",
        "    },\n",
        "\n",
        "\n",
        "    # To provide executable scripts, use entry points in preference to the\n",
        "    # \"scripts\" keyword. Entry points provide cross-platform support and allow\n",
        "    # pip to create the appropriate form of executable for the target platform.\n",
        "    #entry_points={\n",
        "    #    'console_scripts': [\n",
        "    #        'sample=sample:main',\n",
        "    #    ],\n",
        "    #},\n",
        ")"
      ]
    },
    {
      "cell_type": "markdown",
      "metadata": {
        "id": "ZCeZ7sPd7f_m"
      },
      "source": [
        "### Loading libraries\n",
        "Both NumPy and Matplotlib are included in your Anaconda installation, so no need to fetch them again. You can see whats included in Anaconda [here](https://docs.anaconda.com/anaconda/packages/pkg-docs/). Just to prove it we can run the code below.\n",
        "\n",
        "_Remember_, putting a `!` infront executes the code as if it was in the terminal, not as Python code. This shows which version of the library with have installed, and if it was installed via Anaconda.\n"
      ]
    },
    {
      "cell_type": "code",
      "execution_count": null,
      "metadata": {
        "id": "RfYbd8B17f_n"
      },
      "outputs": [],
      "source": [
        "!conda list numpy"
      ]
    },
    {
      "cell_type": "code",
      "execution_count": null,
      "metadata": {
        "id": "fpvt7JCi7f_o"
      },
      "outputs": [],
      "source": [
        "!conda list matplotlib"
      ]
    },
    {
      "cell_type": "markdown",
      "metadata": {
        "id": "qg9_y8MC7f_o"
      },
      "source": [
        "If you **dont** have them installed, you can use\n",
        "\n",
        "```!conda install numpy``` and ```!conda install matplotlib```\n",
        "\n",
        "Even though the packages are installed on the computer, we need to tell the notebook that we are going to use them in this session. We do that using the ```import``` method. When we import the library, we can also give an _alias_. We normally do this to give the library a shorter name for ease when we're coding. The alias is designated using the ```as``` keyword.\n",
        "\n",
        "Below we are importing both the libraries, and giving them a shortened alias (``np`` for numpy, and the pyplot package from matplotlib as ``plt``)"
      ]
    },
    {
      "cell_type": "code",
      "execution_count": null,
      "metadata": {
        "id": "dJ20e2jt7f_p"
      },
      "outputs": [],
      "source": [
        "import matplotlib.pyplot as plt\n",
        "import numpy as np"
      ]
    },
    {
      "cell_type": "markdown",
      "metadata": {
        "id": "JiLOMzorGYbb"
      },
      "source": [
        "### Creating Dimensional Arrays with ``NumPy``\n",
        "\n",
        "Up until this point, every **List** we have seen can be considered **1 dimensional**, in that is all the items in the list are just single objects like numbers or strings. But, it is possible to have lists in multiple dimensions\n",
        "\n",
        "It can help to think of a 1D List as a queue, or a shopping list. There are only two directions (backwards and forwards) and you only need 1 index to access an item in it.\n",
        "\n",
        "You can think of 2D List is a grid, so more like a chess board. You can move in 4 directions (forwads, backwards, left and right) and you need 2 indexes to access any item.\n",
        "\n",
        "Technically, in a 2D List, each item of the outer array is also another 1D List."
      ]
    },
    {
      "cell_type": "code",
      "execution_count": null,
      "metadata": {
        "id": "YOdeXbuNGtsy"
      },
      "outputs": [],
      "source": [
        "# Creating a simple array\n",
        "array = np.array([1, 2, 3, 4, 5])\n",
        "print(array) # notice how the output doesn't have commas, unlike lists"
      ]
    },
    {
      "cell_type": "code",
      "execution_count": null,
      "metadata": {
        "id": "cJis-0v8G7Gt"
      },
      "outputs": [],
      "source": [
        "# Let's explore the different size dimensions\n",
        "\n",
        "# Zero Dimensional Array\n",
        "zero_dim = np.array(6373489934)\n",
        "print(zero_dim)"
      ]
    },
    {
      "cell_type": "code",
      "execution_count": null,
      "metadata": {
        "id": "qx-2BsnJG9z8"
      },
      "outputs": [],
      "source": [
        "# One Dimensional Array { a good way to know what dimension you're dealing with, check the no. of square brackets }\n",
        "one_dim = np.array([1, 2, 3])\n",
        "print(one_dim)"
      ]
    },
    {
      "cell_type": "code",
      "execution_count": null,
      "metadata": {
        "id": "esTSOK53HBRr"
      },
      "outputs": [],
      "source": [
        "# Two Dimensional Array\n",
        "two_dim = np.array([[1, 2, 3], [4, 5, 6]])\n",
        "print(two_dim)"
      ]
    },
    {
      "cell_type": "code",
      "execution_count": null,
      "metadata": {
        "id": "RPJL0UxMHDze"
      },
      "outputs": [],
      "source": [
        "# Three Dimensional Array\n",
        "three_dim = np.array([[[1, 2, 3], [4, 5, 6]], [[7, 8, 9], [10, 11, 12]]])\n",
        "print(three_dim)"
      ]
    },
    {
      "cell_type": "code",
      "execution_count": null,
      "metadata": {
        "id": "ahjTnPMMHzGG"
      },
      "outputs": [],
      "source": [
        "# Finding the dimension of a given array (in case you're dealing with huuuuuge multi-dimensional array)\n",
        "print(three_dim.ndim)  # this prints the dimension of a given array"
      ]
    },
    {
      "cell_type": "code",
      "execution_count": null,
      "metadata": {
        "id": "b3t-Xf2AIQ6l"
      },
      "outputs": [],
      "source": [
        "# Give an array any dimension you want(max = 32 dim so don't go too crazy)\n",
        "new_array = np.array(17, ndmin=15)\n",
        "print(new_array)"
      ]
    },
    {
      "cell_type": "markdown",
      "metadata": {
        "id": "v6jtZ87vJ5s6"
      },
      "source": [
        "### Indexing Arrays"
      ]
    },
    {
      "cell_type": "code",
      "execution_count": null,
      "metadata": {
        "id": "nOyz2_suJ-dL"
      },
      "outputs": [],
      "source": [
        "# One Dimension Indexing\n",
        "array = np.array([2, 4, 3, 9, 1])  # i want the output to be the first element !\n",
        "print(array[0])  # this returns 2 - the first element in [2, 4, 3, 9, 1]"
      ]
    },
    {
      "cell_type": "code",
      "execution_count": null,
      "metadata": {
        "id": "emfgaGfpK3s4"
      },
      "outputs": [],
      "source": [
        "# Two Dimension Indexing\n",
        "two_dim = np.array([[1, 2, 3], [4, 5, 6]])\n",
        "# try guessing the output before printing?\n",
        "print(two_dim[0, 0])  # RE\n",
        "print(two_dim[1, 2])\n",
        "print(two_dim[1])"
      ]
    },
    {
      "cell_type": "markdown",
      "metadata": {
        "id": "NZtbZbyR7f_p"
      },
      "source": [
        "### Generating Data"
      ]
    },
    {
      "cell_type": "markdown",
      "metadata": {
        "id": "_b1MfV5v7f_p"
      },
      "source": [
        "Until this point, we have been working with **Lists** and **Arrays** that we have either hand written ourselves\n",
        "\n",
        "``\n",
        "top_buffy_seasons_sorted = [2,5,3,6,1,7,4]\n",
        "``\n",
        "\n",
        "Or loaded in from files\n",
        "\n",
        "``\n",
        "book_chapters = open('hacking.txt', 'r')\n",
        "``\n",
        "\n",
        "However, often when we are working with dataset, debugging code or plotting graphs its useful to **generate lists of numbers** based on some simple rules.\n",
        "\n",
        "For example\n",
        "\n",
        "\n",
        "* All the numbers from 0 - 100\n",
        "\n",
        "\n",
        "* Every fifth number from 0 - 100\n",
        "\n",
        "\n",
        "* 100 random numbers\n",
        "\n",
        "\n",
        "Sometimes we _even work with numbers beyond 100_.\n",
        "\n",
        "**NumPy** has lots of **functions** built in to allow us to do this. We're going to learn about 2 of them, and then use them to make some **plots**.\n",
        "\n",
        "\n",
        "### ``np.arange(start, end, step)``\n",
        "\n",
        "What we see here is first generating a equally spaced range of numbers using ```np.arange()```. Here we get the first 100 (0-99).\n"
      ]
    },
    {
      "cell_type": "code",
      "execution_count": null,
      "metadata": {
        "id": "3r9ukfv77f_p"
      },
      "outputs": [],
      "source": [
        "#Generate numbers 0-99\n",
        "x = np.arange(100)\n",
        "print(x)"
      ]
    },
    {
      "cell_type": "markdown",
      "metadata": {
        "id": "3kBi5Rzu7f_p"
      },
      "source": [
        "### ``np.random.randint(low, high, size)``\n",
        "\n",
        "We then use the ```np.random.randint``` function to generate 100 random numbers from 0 - 99. Run the code below a few times.\n",
        "\n",
        "1. Do the random numbers change every time?\n",
        "\n",
        "\n",
        "2. Are there duplicated numbers?"
      ]
    },
    {
      "cell_type": "code",
      "execution_count": null,
      "metadata": {
        "id": "S_FPOLTj7f_p",
        "outputId": "54c7d43f-9bb6-405e-db39-8f6a2bb82cdb"
      },
      "outputs": [
        {
          "name": "stdout",
          "output_type": "stream",
          "text": [
            "[81 33 44 16 50 32 61  3 97  1  8  1 65 22 48 93 65 20 19 76 25 17 16 76\n",
            " 11 19 32 65 39  3 15 34 32 39 60 13 34  0 61 55  4 44 48  7 95 95  9 95\n",
            " 97 91 68 98 30 86 11 57 39 61 18 49 61 91 12 85 16 58 91 15 34 35 73 56\n",
            " 79 49 76 26 17 81 51 50 91 13 76 83 31 72 95  6 99 17  8 38  9 94 45 16\n",
            " 42 56 66 58]\n"
          ]
        }
      ],
      "source": [
        "#Generate 100 random numbers in the range 0-99\n",
        "x = np.random.randint(0,100,100)\n",
        "print(x)"
      ]
    },
    {
      "cell_type": "markdown",
      "metadata": {
        "id": "XgIF_kuB7f_p"
      },
      "source": [
        "## Plotting Data with `matplotlib.pyplot`\n",
        "\n",
        "### What data do we need to make a plot?\n",
        "\n",
        "At its simplest, a `plot` or `graph` has **2 axes**, each corresponding to a variables of a dataset. By plotting them against each other, we are able to learn something about the relationship between the variables. Each data point can be shown individually, or joined together in a line.\n",
        "\n",
        "Traditionally, the horizontal axis is known as the **x axis** and the vertical axis is known as the **y axis**.\n",
        "\n",
        "For example, we might want to see :\n",
        "\n",
        "\n",
        "- Time (`x`) against amplitude (`y`) for an audio file\n",
        "\n",
        "\n",
        "- Height (`x`) against weight (`y`) for a population\n",
        "\n",
        "\n",
        "- Temperature (`x`) against ice cream sales (`y`)\n",
        "\n",
        "\n",
        "\n",
        "### The Data\n",
        "\n",
        "Each data point that we want to plot should have **2 values**. As we've seen in Python, when storing the multiple data points, it makes sense to use a ``List``.\n",
        "\n",
        "The data structure we will use for the `matplotlib.pyplot` library is **two lists**, one for each axis.\n",
        "\n",
        "They should be the same length, with each data point having a corresponding variable in each array\n",
        "\n",
        "e.g\n",
        "\n",
        "``\n",
        "pt1 = (x[0], y[0])\n",
        "pt2 = (x[1], y[1])\n",
        "pt3 = (x[2], y[2])\n",
        ".....\n",
        "ptn = (x[n], y[n])\n",
        "``\n",
        "\n",
        "### `plt.plot(x, y, options) `\n",
        "\n",
        "The package `matplotlib.pyplot` has a function `plot()`. This takes the lists of the two values as its **first two arguments**.\n",
        "\n",
        "After this we can add in some **optional extra arguments** to specify other aspects of how the plot is displayed"
      ]
    },
    {
      "cell_type": "code",
      "execution_count": null,
      "metadata": {
        "id": "vd1Yf4Eb7f_p",
        "outputId": "b2e3e92d-f6c1-4bd6-fb5b-e37c78154182"
      },
      "outputs": [
        {
          "name": "stdout",
          "output_type": "stream",
          "text": [
            "x [  0  50 100 150 200 250 300 350 400 450 500 550 600 650 700 750 800 850\n",
            " 900 950]\n",
            "y [  0  10  20  30  40  50  60  70  80  90 100 110 120 130 140 150 160 170\n",
            " 180 190]\n"
          ]
        },
        {
          "data": {
            "text/plain": [
              "[<matplotlib.lines.Line2D at 0x1139f8e20>]"
            ]
          },
          "execution_count": 7,
          "metadata": {},
          "output_type": "execute_result"
        },
        {
          "data": {
            "image/png": "[encoded data removed]",
            "text/plain": [
              "<Figure size 432x288 with 1 Axes>"
            ]
          },
          "metadata": {
            "needs_background": "light"
          },
          "output_type": "display_data"
        }
      ],
      "source": [
        "x = np.arange(0, 1000, 50)\n",
        "y = np.arange(0, 200, 10)\n",
        "print(\"x\", x)\n",
        "print(\"y\", y)\n",
        "plt.plot(x, y)"
      ]
    },
    {
      "cell_type": "markdown",
      "metadata": {
        "id": "6_kF7bYd7f_q"
      },
      "source": [
        "We can also do (r)ed d(o)ts"
      ]
    },
    {
      "cell_type": "code",
      "execution_count": null,
      "metadata": {
        "id": "MaIqBxHW7f_q",
        "outputId": "1fedbdfe-3b87-4eb0-a67c-4b90c739ae9f"
      },
      "outputs": [
        {
          "name": "stdout",
          "output_type": "stream",
          "text": [
            "x [ 0  5 10 15 20 25 30 35 40 45 50 55 60 65 70 75 80 85 90 95]\n",
            "y [67 62  0 89 39 81 49 44  9 40 17 47 41 85 81 97 56 30 94 98]\n"
          ]
        },
        {
          "data": {
            "text/plain": [
              "[<matplotlib.lines.Line2D at 0x113b09280>]"
            ]
          },
          "execution_count": 8,
          "metadata": {},
          "output_type": "execute_result"
        },
        {
          "data": {
            "image/png": "[encoded data removed]",
            "text/plain": [
              "<Figure size 432x288 with 1 Axes>"
            ]
          },
          "metadata": {
            "needs_background": "light"
          },
          "output_type": "display_data"
        }
      ],
      "source": [
        "x = np.arange(0, 100, 5)\n",
        "y = np.random.randint(0, 100, len(x))\n",
        "print(\"x\", x)\n",
        "print(\"y\", y)\n",
        "plt.plot(x, y,'ro')"
      ]
    },
    {
      "cell_type": "markdown",
      "metadata": {
        "id": "ydeuWgb_7f_q"
      },
      "source": [
        "Or (g)reen (x)s"
      ]
    },
    {
      "cell_type": "code",
      "execution_count": null,
      "metadata": {
        "id": "iqr-Zkhz7f_q",
        "outputId": "fc420bcb-c33d-4fc8-f63f-6ea2fe68d1d9"
      },
      "outputs": [
        {
          "data": {
            "text/plain": [
              "[<matplotlib.lines.Line2D at 0x12f870670>]"
            ]
          },
          "execution_count": 10,
          "metadata": {},
          "output_type": "execute_result"
        },
        {
          "data": {
            "image/png": "[encoded data removed]",
            "text/plain": [
              "<Figure size 432x288 with 1 Axes>"
            ]
          },
          "metadata": {
            "needs_background": "light"
          },
          "output_type": "display_data"
        }
      ],
      "source": [
        "plt.plot(x, y,'gx')"
      ]
    },
    {
      "cell_type": "markdown",
      "metadata": {
        "id": "zN4vkhva7f_q"
      },
      "source": [
        "### Line Functions\n",
        "\n",
        "When often define functions (which we can then plot as lines) in a format where we can take a value on the x axis, and use the function to determine the value on the y axis. For example\n",
        "\n",
        "```y = 2x```\n",
        "\n",
        "We would know that when `x = 2, y = 4` and when `x = 256, y = 512`, and so on. We can then plot these pairs as coordinates.\n"
      ]
    },
    {
      "cell_type": "code",
      "execution_count": null,
      "metadata": {
        "id": "i8-2wr7m7f_q",
        "outputId": "9355f7fc-e3a8-40f4-bc5e-a72897cd63e3"
      },
      "outputs": [
        {
          "data": {
            "text/plain": [
              "[<matplotlib.lines.Line2D at 0x12f94a3a0>]"
            ]
          },
          "execution_count": 11,
          "metadata": {},
          "output_type": "execute_result"
        },
        {
          "data": {
            "image/png": "[encoded data removed]",
            "text/plain": [
              "<Figure size 432x288 with 1 Axes>"
            ]
          },
          "metadata": {
            "needs_background": "light"
          },
          "output_type": "display_data"
        }
      ],
      "source": [
        "x = np.arange(10)\n",
        "y = x * 2\n",
        "plt.plot(x, y)"
      ]
    },
    {
      "cell_type": "markdown",
      "metadata": {
        "id": "hbkY6N6Z7f_q"
      },
      "source": [
        "### Doing maths with arrays\n",
        "\n",
        "Above we saw the line\n",
        "\n",
        "```\n",
        "y = x * 2\n",
        "```\n",
        "\n",
        "Previously we have only done maths with **single numbers**. Whats happening here?\n",
        "\n",
        "Once you have generated arrays using methods like ```np.arange``` and ```np.random.randint```, you can then alter then using simple maths notatation. If ```a``` is an array, when we say ```a = a + 1```, we would add one to **every** item in the array. When we say ```a = a * 2``` we would double **every** item in the array.\n",
        "\n",
        "This is something we'll end up doing alot, and doing it this way is **much cleaner** and **much more efficient** than using a ``for loop``"
      ]
    },
    {
      "cell_type": "code",
      "execution_count": null,
      "metadata": {
        "id": "gj3Bwh3m7f_q",
        "outputId": "8928a0ca-e907-4530-d037-bdac885bceab"
      },
      "outputs": [
        {
          "name": "stdout",
          "output_type": "stream",
          "text": [
            "[0 1 2 3 4 5 6 7 8 9]\n",
            "[ 1  2  3  4  5  6  7  8  9 10]\n",
            "[-2 -1  0  1  2  3  4  5  6  7]\n",
            "[  0 100 200 300 400 500 600 700 800 900]\n"
          ]
        }
      ],
      "source": [
        "#Generate array of 0-9\n",
        "a = np.arange(10)\n",
        "print(a)\n",
        "#Add 1 to every value\n",
        "print(a + 1)\n",
        "#Subract 2 from every value\n",
        "print(a - 2)\n",
        "#Multiply every value by 100\n",
        "print(a * 100)"
      ]
    },
    {
      "cell_type": "markdown",
      "metadata": {
        "id": "Zq3-Uekm7f_q"
      },
      "source": [
        "# This Is My Jam\n",
        "\n",
        "So its hard find anything out about that random data because, well, its random. Now lets look at some actual data generated by acutal people using a now defunct music platform called _This Is My Jam_. I've done quite abit of wrangling already to get this data into a usable state from the original dump, and here I give just the top 25,000 most liked songs.\n",
        "\n",
        "We'll see if we gain any insight into the how music is consumed using this data."
      ]
    },
    {
      "cell_type": "code",
      "execution_count": null,
      "metadata": {
        "id": "_1bVc5EI7f_q",
        "scrolled": true
      },
      "outputs": [],
      "source": [
        "file = open('data/thisismyjam_top25k.tsv')\n",
        "#This data uses tabs to separate each point, not the usual commas. Can you think why?\n",
        "this_is_my_jam_dataset = np.loadtxt(file, delimiter = \"\\t\",  dtype = 'O')\n",
        "#Convert everything in the 5th column to an integer (number)\n",
        "this_is_my_jam_dataset[:,4] = this_is_my_jam_dataset[:,4].astype(int)"
      ]
    },
    {
      "cell_type": "markdown",
      "metadata": {
        "id": "0Yf7C0017f_r"
      },
      "source": [
        "### `np.array`, `shape`\n",
        "\n",
        "When we are working with ``NumPy``, the type of **Lists** that we work with are actually their own _slightly different_ data structure.\n",
        "\n",
        "This is called an ``np.array`` and works very similarly to a List, with some additional functionality.\n",
        "\n",
        "For example, when we have an array with **more than one dimension**, we can use the ``shape()`` function to get the dimensions"
      ]
    },
    {
      "cell_type": "code",
      "execution_count": null,
      "metadata": {
        "id": "YSVLyYif7f_r",
        "outputId": "c0caf16f-720b-4b05-fc51-cb26b2368938"
      },
      "outputs": [
        {
          "data": {
            "text/plain": [
              "(25000, 5)"
            ]
          },
          "execution_count": 12,
          "metadata": {},
          "output_type": "execute_result"
        }
      ],
      "source": [
        "#Lets look at the shape. There are 25,000 tracks, each with 5 values\n",
        "this_is_my_jam_dataset.shape"
      ]
    },
    {
      "cell_type": "code",
      "execution_count": null,
      "metadata": {
        "id": "Knb2Mt1J7f_r",
        "outputId": "8278e103-26c7-4f6d-aa94-0e263b36d242"
      },
      "outputs": [
        {
          "data": {
            "text/plain": [
              "array(['2e279cefb935f6261e56c2b50518e3f1', 'Beach House', 'Lazuli',\n",
              "       '15/12/2012', 27], dtype=object)"
            ]
          },
          "execution_count": 13,
          "metadata": {},
          "output_type": "execute_result"
        }
      ],
      "source": [
        "#What info do we have about each track?\n",
        "#id, title, artist, date added and total number of likes\n",
        "this_is_my_jam_dataset[4002]"
      ]
    },
    {
      "cell_type": "markdown",
      "metadata": {
        "id": "7JipLZ_87f_r"
      },
      "source": [
        "### Plotting a single column of data\n",
        "\n",
        "Here we plot every song, with the number of likes for each song on the y axis\n",
        "\n",
        "In this situation, we are **only interested in one of the five columns** of this dataset. This is the fifth and final one that contains the **total likes for that track**.\n",
        "\n",
        "The same way that we have selected **slices** from 1 dimensional Lists before, we can also slice **columns**.\n",
        "\n",
        "### `:`\n",
        "\n",
        "Using the `:` symbol, we can tell **NumPy** that we want to take **every value in that dimension**\n",
        "\n",
        "For example, this line tells us to take all of the rows (every song), but just the 5th column\n",
        "\n",
        "``\n",
        "just_likes = this_is_my_jam_dataset[:,4]\n",
        "``\n",
        "\n"
      ]
    },
    {
      "cell_type": "code",
      "execution_count": null,
      "metadata": {
        "id": "BgeFUwm07f_r"
      },
      "outputs": [],
      "source": [
        "#Separate out the just the likes column (the fifth colum, indexed 4 (we start at 0!))\n",
        "#The : tells us to take ALL the rows\n",
        "just_likes = this_is_my_jam_dataset[:,4]"
      ]
    },
    {
      "cell_type": "code",
      "execution_count": null,
      "metadata": {
        "id": "6MK1XOhl7f_r",
        "outputId": "4ca7e9fb-4834-456c-bac8-d29e716cc7af"
      },
      "outputs": [
        {
          "name": "stdout",
          "output_type": "stream",
          "text": [
            "[[1 2 3]\n",
            " [4 5 6]\n",
            " [7 8 9]]\n",
            "get first column\n",
            "[1 4 7]\n",
            "replace first column\n",
            "[[100   2   3]\n",
            " [100   5   6]\n",
            " [100   8   9]]\n",
            "edit second column\n",
            "[[100   6   3]\n",
            " [100  15   6]\n",
            " [100  24   9]]\n"
          ]
        }
      ],
      "source": [
        "#More generally\n",
        "a = np.array([[1,2,3],[4,5,6],[7,8,9]])\n",
        "print(a)\n",
        "print(\"get first column\")\n",
        "print(a[:,0])\n",
        "print(\"replace first column\")\n",
        "a[:,0] = [100,100,100]\n",
        "print(a)\n",
        "print(\"edit second column\")\n",
        "a[:,1] = a[:,1] * 3\n",
        "print(a)"
      ]
    },
    {
      "cell_type": "markdown",
      "metadata": {
        "id": "dmggQEkQ7f_r"
      },
      "source": [
        "### Getting the axes with `plt.subplots()`\n",
        "\n",
        "Previously we have used `plt.plot()` to make our graphs. We passed in the data needed and some options for display in **as arguments to the function**.\n",
        "\n",
        "When we want some more control over how the plot is displayed, we can use the `plt.subplots()` function first.\n",
        "\n",
        "``\n",
        "fig, ax = plt.subplots()\n",
        "``\n",
        "\n",
        "This returns two things, which we store in the new variables `fig` and `ax`. These are\n",
        "\n",
        "\n",
        "- A `Figure`, this represents the container that the plot is stored in. We'll ignore this for now.\n",
        "\n",
        "\n",
        "- An `Axes`, this represents the plot itself and we can use this to make our plot more informative.\n",
        "\n",
        "\n",
        "### `ax.plot()`\n",
        "\n",
        "Now we've created an `Axes` object, we can use `plot()` in the same way we have been doing before.\n",
        "\n",
        "In fact, the plot we want only really has information **on the y axis** (the total number of likes). The x value simply denotes a new song and this more like an arbitrary id field.\n",
        "\n",
        "In this case, we can actually just pass in **one list of values** (`just_likes`) and the library will work out how to display it.\n",
        "\n",
        "### `ax.set_ylabel()`\n",
        "\n",
        "As the `y axis` has the important information on it, we can help people understand our plots better by labelling them.\n",
        "\n",
        "`ax.set_ylabel()` allows us to pass in a text value.\n"
      ]
    },
    {
      "cell_type": "code",
      "execution_count": null,
      "metadata": {
        "id": "-kkc1L5P7f_r",
        "outputId": "d0487c6c-6539-417d-e91b-373c4164f91f"
      },
      "outputs": [
        {
          "data": {
            "text/plain": [
              "[<matplotlib.lines.Line2D at 0x113ae05b0>]"
            ]
          },
          "execution_count": 16,
          "metadata": {},
          "output_type": "execute_result"
        },
        {
          "data": {
            "image/png": "[encoded data removed]",
            "text/plain": [
              "<Figure size 864x576 with 1 Axes>"
            ]
          },
          "metadata": {
            "needs_background": "light"
          },
          "output_type": "display_data"
        }
      ],
      "source": [
        "#plot, here we are making a figure, then adding the plot. This means we can specify the size\n",
        "fig, ax = plt.subplots(figsize=(12,8))\n",
        "ax.set_ylabel('likes')\n",
        "ax.plot(just_likes, \"rx\")"
      ]
    },
    {
      "cell_type": "markdown",
      "metadata": {
        "id": "Gl4tauVg7f_r"
      },
      "source": [
        "### Sorting\n",
        "\n",
        "So every x is a different song, with the y axis (the vertical height) demonstrating the total number of likes.\n",
        "\n",
        "Is that useful? We can't really tell much from this data apart, apart from there are lots and lots of songs that got less than 50 likes, and a few that got more.\n",
        "\n",
        "Lets sort it. Run the cell below and check out the sorted graph.\n",
        "\n",
        "### `sorted()`\n",
        "\n",
        "The `sorted()` function takes a **List** as an argument and returns a **sorted version of that list**.\n"
      ]
    },
    {
      "cell_type": "code",
      "execution_count": null,
      "metadata": {
        "id": "zGUiudxb7f_r",
        "outputId": "3006427c-02e5-4b12-d385-72d4dc1d01d1"
      },
      "outputs": [
        {
          "name": "stdout",
          "output_type": "stream",
          "text": [
            "[1, 2, 3, 4]\n"
          ]
        }
      ],
      "source": [
        "a = [4,3,2,1]\n",
        "a = sorted(a)\n",
        "print(a)"
      ]
    },
    {
      "cell_type": "markdown",
      "metadata": {
        "id": "sBU2khH77f_s"
      },
      "source": [
        "Here we add in an extra argument to tell it to sort the **2D list** based on the values in a given column."
      ]
    },
    {
      "cell_type": "code",
      "execution_count": null,
      "metadata": {
        "id": "ooJZljYs7f_s",
        "outputId": "ed098e73-02da-48e3-f73f-486538607851"
      },
      "outputs": [
        {
          "data": {
            "text/plain": [
              "[<matplotlib.lines.Line2D at 0x1144703a0>]"
            ]
          },
          "execution_count": 18,
          "metadata": {},
          "output_type": "execute_result"
        },
        {
          "data": {
            "image/png": "[encoded data removed]",
            "text/plain": [
              "<Figure size 864x576 with 1 Axes>"
            ]
          },
          "metadata": {
            "needs_background": "light"
          },
          "output_type": "display_data"
        }
      ],
      "source": [
        "#Here we sort based on on the 5th column (likes) (dont worry about the code)\n",
        "sorted_likes = np.array(sorted(this_is_my_jam_dataset, key=lambda x: x[4]))\n",
        "just_likes = sorted_likes[:,4]\n",
        "fig, ax = plt.subplots(figsize=(12,8))\n",
        "#Set the y axis label\n",
        "ax.set_ylabel('likes')\n",
        "ax.plot(just_likes, \"rx\")"
      ]
    },
    {
      "cell_type": "markdown",
      "metadata": {
        "id": "AqpZgzSO7f_s"
      },
      "source": [
        "### The Most Popular Songs\n",
        "\n",
        "So it looks like there are a few songs that are **much much** more popular than others.\n",
        "\n",
        "What are they?\n",
        "\n",
        "We can use a couple of **indexing tricks** to get the final few rows from the dataset\n",
        "\n",
        "#### `-`\n",
        "\n",
        "We can use the **negative indexes** to pick a point **from the end**\n",
        "\n",
        "\n",
        "#### `:`\n",
        "\n",
        "We can then use the `:` to say\n",
        "\n",
        "``\n",
        "\"From this point to the end\"\n",
        "``\n",
        "\n",
        "So the code below tells us\n",
        "\n",
        "``\n",
        "Get me the rows from the 6th last, up until the end\n",
        "``"
      ]
    },
    {
      "cell_type": "code",
      "execution_count": null,
      "metadata": {
        "id": "Rv-3rICh7f_s",
        "outputId": "45fa261a-7e0e-4508-b31d-1cadfbe6e86b",
        "scrolled": true
      },
      "outputs": [
        {
          "name": "stdout",
          "output_type": "stream",
          "text": [
            "[['a0041c8a65103f15796f94aaffff0a57' 'Foals' 'Inhaler' '21/11/2012' 155]\n",
            " ['fe85d89ceecc834f1cac81cab59dc184' 'Florence + the Machine'\n",
            "  'What the Water Gave Me' '24/04/2012' 155]\n",
            " ['caa282f8b2668135ab3063e64bbfe40b' 'The Black Keys' 'Lonely Boy'\n",
            "  '10/12/2012' 159]\n",
            " ['b7cbcd002400779bdb5443e74119d942' 'Jimmy Page and Robert Plant'\n",
            "  'Kashmir' '16/09/2012' 193]\n",
            " ['964c043c56bbe152f0aa0f9867779c28' 'Roger Waters and Eddie Vedder'\n",
            "  'Comfortably Numb' '14/12/2012' 213]\n",
            " ['30bd1528d671589a24c5ff9b9c53f3ee' 'Tame Impala' 'Elephant'\n",
            "  '11/11/2012' 221]]\n"
          ]
        }
      ],
      "source": [
        "print(sorted_likes[-6:])"
      ]
    },
    {
      "cell_type": "markdown",
      "metadata": {
        "id": "LWR4oAYh7f_s"
      },
      "source": [
        "If we just wanted the **artist and song title**, we can also specify that we only want the 1st (inclusive) to the 3rd (exclusive) (`1:3`)"
      ]
    },
    {
      "cell_type": "code",
      "execution_count": null,
      "metadata": {
        "id": "r2Dd7Wtx7f_2",
        "outputId": "f71330bc-95a4-4194-ddde-f007e3573256"
      },
      "outputs": [
        {
          "name": "stdout",
          "output_type": "stream",
          "text": [
            "[['Foals' 'Inhaler']\n",
            " ['Florence + the Machine' 'What the Water Gave Me']\n",
            " ['The Black Keys' 'Lonely Boy']\n",
            " ['Jimmy Page and Robert Plant' 'Kashmir']\n",
            " ['Roger Waters and Eddie Vedder' 'Comfortably Numb']\n",
            " ['Tame Impala' 'Elephant']]\n"
          ]
        }
      ],
      "source": [
        "print(sorted_likes[-6:,1:3])"
      ]
    },
    {
      "cell_type": "markdown",
      "metadata": {
        "id": "zEPXlJFv7f_3"
      },
      "source": [
        "### Filters\n",
        "\n",
        "We can rephrase the question\n",
        "\n",
        "*What are the top ``n`` most popular songs?*\n",
        "\n",
        "With\n",
        "\n",
        "*What are the songs that have been liked over `n` times?*\n",
        "\n",
        "And ``NumPy`` gives us some easy tools to do this. We can create a **Filter** which poses a **conditional test** (like we did with **if-else statements**).\n",
        "\n",
        "This will test every item in the list, and return only the ones where the **test holds True**"
      ]
    },
    {
      "cell_type": "code",
      "execution_count": null,
      "metadata": {
        "id": "aKtxv07E7f_3",
        "outputId": "f0cf61a5-500f-4cf9-8e9c-05011782c6a2"
      },
      "outputs": [
        {
          "name": "stdout",
          "output_type": "stream",
          "text": [
            "[['dfabfd4389b7fcbf9a79a48caf51d9ab' 'Massive Attack' 'Protection'\n",
            "  '02/05/2012' 146]\n",
            " ['b0eba6f44a3c97681f3be13a65aa15ee' 'Roxy Music'\n",
            "  'Love Is the Drug (Todd Terje Disco Dub)' '09/12/2012' 149]\n",
            " ['2f8711a46fcf4e08dbf0dd2b1dd031e8' 'The Velvet Underground'\n",
            "  'Pale Blue Eyes' '20/08/2012' 151]\n",
            " ['a0041c8a65103f15796f94aaffff0a57' 'Foals' 'Inhaler' '21/11/2012' 155]\n",
            " ['fe85d89ceecc834f1cac81cab59dc184' 'Florence + the Machine'\n",
            "  'What the Water Gave Me' '24/04/2012' 155]\n",
            " ['caa282f8b2668135ab3063e64bbfe40b' 'The Black Keys' 'Lonely Boy'\n",
            "  '10/12/2012' 159]\n",
            " ['b7cbcd002400779bdb5443e74119d942' 'Jimmy Page and Robert Plant'\n",
            "  'Kashmir' '16/09/2012' 193]\n",
            " ['964c043c56bbe152f0aa0f9867779c28' 'Roger Waters and Eddie Vedder'\n",
            "  'Comfortably Numb' '14/12/2012' 213]\n",
            " ['30bd1528d671589a24c5ff9b9c53f3ee' 'Tame Impala' 'Elephant'\n",
            "  '11/11/2012' 221]]\n"
          ]
        }
      ],
      "source": [
        "## Just the rows where the value in the fifth column is over 140\n",
        "test = sorted_likes[:,4]>140\n",
        "print(sorted_likes[test])"
      ]
    },
    {
      "cell_type": "markdown",
      "metadata": {
        "id": "85NTRL5S7f_3"
      },
      "source": [
        "### Skewed data\n",
        "\n",
        "Here we see the same pattern we saw in the other plot but much clearer. There is just a masssssssssive tail. Lots of songs with near 0 likes and small amount with lots. We would call this data **skewed**.\n",
        "\n",
        "What we mean by this is that it is **not** centered around some nice average middle value, with sides sloping off in a classic bell shape.\n",
        "\n",
        "And also remember _this is already the top 25k most liked songs (from > 1 million)_, so we have already discounted 100,000s of songs with near to 0 likes. This is a pattern you would see with alot of streaming services, with a few really popular songs / movies and then a long tail of much less popular stuff.\n"
      ]
    },
    {
      "cell_type": "markdown",
      "metadata": {
        "id": "hHMgdJjG7f_3"
      },
      "source": [
        "### Histograms\n",
        "\n",
        "Histograms are a way of summarising data by collecting it into a smaller number of bins. For example, if the full range of data is 0-250, and we ask for 25 bins, we'll get a bar chart that collects together each count in ranges of 10 (0-10,11-20,21-30...). This can be a nice way of getting a rough idea of the shape of how data is distributed.\n",
        "\n",
        "We can again see that there is lots of songs with a small amount of likes, and a long tail trailing off. **Note**, we are now using the x axis to show number of likes, this is just a standard way to show a histogram.\n",
        "\n",
        "#### `ax.set_xticks()`, `ax.set_xticklabels()`\n",
        "\n",
        "In this plot we have are using the functions `ax.set_xticks()` and `ax.set_xticklabels()` to specify the markers and numbers along the x axis.\n",
        "\n",
        "If we don't set them explicitly, `matplotlib` will try and work out what it thinks is best, which is sometimes OK, but sometimes not! For example, here, having a finer grain set of **ticks**, allows us to better understand the smaller bins to the left.\n",
        "\n",
        "Here, we use ``np.arange`` to generate a new list with the numbers **0->300 in steps of 10**. We then set the **ticks**, which is an array of numbers used to set the markers, and the **ticklabels**, which is the actual text labels underneath\n"
      ]
    },
    {
      "cell_type": "code",
      "execution_count": null,
      "metadata": {
        "id": "mTvvZRHQ7f_3",
        "outputId": "1816a625-1cdb-40f0-94b5-5d48d354443a"
      },
      "outputs": [
        {
          "data": {
            "image/png": "[encoded data removed]",
            "text/plain": [
              "<Figure size 864x576 with 1 Axes>"
            ]
          },
          "metadata": {
            "needs_background": "light"
          },
          "output_type": "display_data"
        }
      ],
      "source": [
        "fig, ax = plt.subplots(figsize=(12,8))\n",
        "number_of_bins = 50\n",
        "ax.set_xlabel('likes')\n",
        "#Set the \"ticks\" on the x axis for 0->300 in steps of 10\n",
        "xticks = np.arange(0, 300, 10)\n",
        "ax.set_xticks(xticks)\n",
        "ax.set_xticklabels(xticks, fontsize=12);\n",
        "h = ax.hist(just_likes, bins=number_of_bins)"
      ]
    },
    {
      "cell_type": "markdown",
      "metadata": {
        "id": "jfmVQ9PT7f_3"
      },
      "source": [
        "### Changing the scale\n",
        "\n",
        "With all these views on the skewed data, we loose lots of information where its all bunched up together (in our case in the less liked songs). One way to improve this is to move from a **linear** to a **logarithmic** scale.\n",
        "\n",
        "With a **linear** scale (what we have been using up until now), every number of likes has taken up the same amount of screen real-estate across the whole range.\n",
        "\n",
        "For example, if 1-2 likes covers 5 pixels, so does 45-46 and 245-246.\n",
        "\n",
        "A **logarithmic** scale means that smaller values take up more space on the screen, and the values further up get squished together, so in situtations like this where there's alot of interesting stuff happening at the bottom end, and a small amount of data taking up lots of room in the higher values, its perfect.\n",
        "\n",
        "Using this log scale on the standard scatter plot we can now see a lot more detail about how the less played songs are distributed."
      ]
    },
    {
      "cell_type": "code",
      "execution_count": null,
      "metadata": {
        "id": "MjMNhIvv7f_3",
        "outputId": "ac80f030-8983-4dfd-8f2c-b5e146a933ed"
      },
      "outputs": [
        {
          "data": {
            "text/plain": [
              "[<matplotlib.lines.Line2D at 0x114af08b0>]"
            ]
          },
          "execution_count": 23,
          "metadata": {},
          "output_type": "execute_result"
        },
        {
          "data": {
            "image/png": "[encoded data removed]",
            "text/plain": [
              "<Figure size 864x576 with 1 Axes>"
            ]
          },
          "metadata": {
            "needs_background": "light"
          },
          "output_type": "display_data"
        }
      ],
      "source": [
        "fig, ax = plt.subplots(figsize=(12,8))\n",
        "ax.set_yscale('log')\n",
        "#Set the \"ticks\" on the y axis to accomodate log spacing\n",
        "yticks = [1,2,4,8,16,32,64,128,256]\n",
        "ax.set_yticks(yticks)\n",
        "ax.set_yticklabels([y for y in yticks], fontsize=12);\n",
        "ax.plot(just_likes, \"rx\")"
      ]
    },
    {
      "cell_type": "markdown",
      "metadata": {
        "id": "vwAMUfaB7f_3"
      },
      "source": [
        "### Log histogram\n",
        "\n",
        "And for the histogram (this time using the log scale in the x axis), we get tonnes more resolution in the lower bins when we use a larger number of bins. This gives us more insight into how the songs likes a distributed amongst the lower ranges. Here we can again see lots of the songs have 7 or less likes (maybe a third of them?) and then theres a pretty steep drop off as we move into more songs with more likes."
      ]
    },
    {
      "cell_type": "code",
      "execution_count": null,
      "metadata": {
        "id": "beim7gGV7f_5",
        "outputId": "713b27e7-5831-4716-dd21-0cc306460aab"
      },
      "outputs": [
        {
          "data": {
            "image/png": "[encoded data removed]",
            "text/plain": [
              "<Figure size 1008x576 with 1 Axes>"
            ]
          },
          "metadata": {
            "needs_background": "light"
          },
          "output_type": "display_data"
        }
      ],
      "source": [
        "fig, ax = plt.subplots(figsize=(14,8))\n",
        "ax.set_xscale('log')\n",
        "#Set the \"ticks\" on the x axis to accomodate log spacing\n",
        "xticks = [1,2,4,8,16,32,64,128,256]\n",
        "ax.set_xticks(xticks)\n",
        "ax.set_xticklabels(xticks, fontsize=12);\n",
        "number_of_bins = 200\n",
        "#Plot the likes (4th column)\n",
        "h = ax.hist(just_likes, bins=number_of_bins)"
      ]
    },
    {
      "cell_type": "markdown",
      "metadata": {
        "id": "lmduFnXX7f_5"
      },
      "source": [
        "### Averages\n",
        "\n",
        "So far we have been using different plotting methods to get a feel for our data. Different types of averages can also be good stats to plot on our graphs to get a feel for how it is distributed and there are three common ways using determining the averages.\n",
        "\n",
        "1. Mean - The sum of all values, divided by the number of values. We can use the built in `np.mean()` function.\n",
        "\n",
        "\n",
        "2. Mode - The most frequent value. There is not a function in `NumPy` to calculate this, however, we can use the `Counter` object imported from the `collections` package. This counts up the occurences of each unique item in the list. This then has a function `most_common()` which will give us the Mode.\n",
        "\n",
        "\n",
        "3. Median - The middle value. We can use the built in `np.median()` function.\n",
        "\n",
        "Each one comes with advantages and disadvantages. For example, a mean can be overly affected by extreme values. Equally, both the mode and the median are only capable of returning values that are already in the data set so wouldn't work well for really unbalanced, or sparse, data."
      ]
    },
    {
      "cell_type": "code",
      "execution_count": null,
      "metadata": {
        "id": "wKMOTW9E7f_5",
        "outputId": "7b69ed74-b32d-4e3b-f5b5-b69dcb68efe1",
        "scrolled": true
      },
      "outputs": [
        {
          "name": "stdout",
          "output_type": "stream",
          "text": [
            "18.67612\n",
            "13.0\n",
            "8\n",
            "7\n"
          ]
        }
      ],
      "source": [
        "from collections import Counter\n",
        "#Mean\n",
        "mean = np.mean(just_likes)\n",
        "print(mean)\n",
        "#Median\n",
        "median = np.median(just_likes)\n",
        "print(median)\n",
        "#Mode\n",
        "mode = Counter(just_likes).most_common(1)[0][0]\n",
        "print(mode)\n",
        "#Min\n",
        "print(np.min(just_likes))"
      ]
    },
    {
      "cell_type": "markdown",
      "metadata": {
        "id": "UnBF1Gbq7f_5"
      },
      "source": [
        "### Multiple Plots on The Same ``Axes``\n",
        "\n",
        "Here we plot the values on the main graph.\n",
        "\n",
        "We can just call `plot()` again on the same `ax` object and it gets drawn on the same graph.\n",
        "\n",
        "Here, we give each one a **different display option**, and its own `label`. This means when we call `plt.legend()`, the label can be used to **show which shape represents each value**"
      ]
    },
    {
      "cell_type": "code",
      "execution_count": null,
      "metadata": {
        "id": "ASYBazaL7f_5",
        "outputId": "85e8c814-095e-4c39-e191-0ec0a02b71fe"
      },
      "outputs": [
        {
          "data": {
            "text/plain": [
              "<matplotlib.legend.Legend at 0x132f3abb0>"
            ]
          },
          "execution_count": 37,
          "metadata": {},
          "output_type": "execute_result"
        },
        {
          "data": {
            "image/png": "[encoded data removed]",
            "text/plain": [
              "<Figure size 864x576 with 1 Axes>"
            ]
          },
          "metadata": {
            "needs_background": "light"
          },
          "output_type": "display_data"
        }
      ],
      "source": [
        "fig, ax = plt.subplots(figsize=(12,8))\n",
        "ax.set_yscale('log')\n",
        "#Set the \"ticks\" on the y axis to accomodate log spacing\n",
        "yticks = [1,2,4,8,16,32,64,128,256]\n",
        "ax.set_yticks(yticks)\n",
        "ax.set_yticklabels([y for y in yticks], fontsize=12);\n",
        "ax.plot(just_likes, \"rx\", ms = 5)\n",
        "\n",
        "#Get x point in middle\n",
        "mid_x = [len(just_likes)/2]\n",
        "\n",
        "ax.plot(mid_x, [mean], \"mx\", ms = 14, label = \"mean\")\n",
        "ax.plot(mid_x, [median], \"bx\", ms = 14, label = \"median\")\n",
        "ax.plot(mid_x, [mode], \"gx\", ms = 14, label = \"mode\")\n",
        "#Add key\n",
        "plt.legend()"
      ]
    },
    {
      "cell_type": "markdown",
      "metadata": {
        "id": "5UlEBjaa7f_5"
      },
      "source": [
        "### What does it tell us?\n",
        "\n",
        "What we see here is the mean gives the highest value (effected by those highly listened to tracks). The mode is lowest, again showing us that there is a weighting towards tracks liked a small number of times. I also printed out the minimum to see how close 8 was to the bottom, and its 7.\n",
        "\n",
        "In this case, the **median probably summarises the data the best**, but **none of the numbers really tell us about the whole picture**."
      ]
    },
    {
      "cell_type": "markdown",
      "metadata": {
        "id": "j1C7w2J27f_6"
      },
      "source": [
        "\n",
        "### Round up\n",
        "\n",
        "To summarise, we've seen how we can use different plots, stats, and scales to explore some user preference data from a music streaming service.\n",
        "\n",
        "- Just plotting the data in its given order didn't show us much as there were way too many datapoints. Other plots, or summary statistics can get further insight.\n",
        "- Sorting the data and plotting it made the trend in the skewed data clearer.\n",
        "- Box and Whisker plots and Histograms also were a way to demonstrate this skew (lots of low values).\n",
        "- The plotting the means, medians and modes can also tell us more about the data.\n",
        "- When we have this skew, using a **logarithmic** scale can give better resolution to lower ranges."
      ]
    },
    {
      "cell_type": "code",
      "execution_count": null,
      "metadata": {
        "id": "Gxo1hRjM7f_6"
      },
      "outputs": [],
      "source": []
    }
  ],
  "metadata": {
    "colab": {
      "provenance": []
    },
    "kernelspec": {
      "display_name": "Python 3",
      "language": "python",
      "name": "python3"
    },
    "language_info": {
      "codemirror_mode": {
        "name": "ipython",
        "version": 3
      },
      "file_extension": ".py",
      "mimetype": "text/x-python",
      "name": "python",
      "nbconvert_exporter": "python",
      "pygments_lexer": "ipython3",
      "version": "3.9.18"
    }
  },
  "nbformat": 4,
  "nbformat_minor": 0
}
